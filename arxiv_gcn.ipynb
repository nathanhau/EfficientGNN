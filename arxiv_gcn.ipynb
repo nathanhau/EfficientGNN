{
 "cells": [
  {
   "cell_type": "code",
   "execution_count": 1,
   "metadata": {},
   "outputs": [
    {
     "name": "stderr",
     "output_type": "stream",
     "text": [
      "d:\\Files\\Coding\\ml\\EfficientGNN\\venv\\lib\\site-packages\\tqdm\\auto.py:22: TqdmWarning: IProgress not found. Please update jupyter and ipywidgets. See https://ipywidgets.readthedocs.io/en/stable/user_install.html\n",
      "  from .autonotebook import tqdm as notebook_tqdm\n"
     ]
    }
   ],
   "source": [
    "from models import GCN\n",
    "from ogb.nodeproppred import DglNodePropPredDataset\n",
    "import torch.nn as nn\n",
    "import torch\n",
    "import torch.nn.functional as F\n",
    "import dgl"
   ]
  },
  {
   "cell_type": "code",
   "execution_count": 2,
   "metadata": {},
   "outputs": [],
   "source": [
    "device = 'cpu'\n",
    "activation = nn.ReLU()\n",
    "epochs = 100\n",
    "batch_size = 10000\n",
    "lr = 0.02\n",
    "loss_fn = nn.CrossEntropyLoss()\n",
    "weight_decay = 5e-4\n",
    "n_layers = 2"
   ]
  },
  {
   "cell_type": "code",
   "execution_count": 3,
   "metadata": {},
   "outputs": [],
   "source": [
    "data = DglNodePropPredDataset('ogbn-arxiv', root='dataset/')\n",
    "g, labels = data[0]\n",
    "labels = labels[:, 0]\n",
    "g.ndata['label'] = labels\n",
    "g = dgl.add_reverse_edges(g)\n",
    "features = g.ndata['feat']\n",
    "idx_split = data.get_idx_split()\n",
    "train_mask = idx_split['train']\n",
    "val_mask = idx_split['valid']\n",
    "test_mask = idx_split['test']\n",
    "in_feats = features.shape[1]\n",
    "n_classes = (labels.max() + 1).item()"
   ]
  },
  {
   "cell_type": "code",
   "execution_count": 4,
   "metadata": {},
   "outputs": [],
   "source": [
    "model = GCN(in_feats, 16, n_classes, 2, activation)\n",
    "optimizer = torch.optim.Adam(model.parameters(), lr=lr, weight_decay=weight_decay)"
   ]
  },
  {
   "cell_type": "code",
   "execution_count": 5,
   "metadata": {},
   "outputs": [],
   "source": [
    "def train(model, g, features, labels, train_mask, val_mask, test_mask):\n",
    "    for epoch in range(epochs):\n",
    "        model.train()\n",
    "        logits = model(g, features)\n",
    "        loss = loss_fn(logits[train_mask], labels[train_mask])\n",
    "        optimizer.zero_grad()\n",
    "        loss.backward()\n",
    "        optimizer.step()\n",
    "\n",
    "        model.eval()\n",
    "        logits = model(g, features)\n",
    "        train_acc = torch.sum(logits[train_mask].argmax(1) == labels[train_mask]).item() / train_mask.sum().item()\n",
    "        val_acc = torch.sum(logits[val_mask].argmax(1) == labels[val_mask]).item() / val_mask.sum().item()\n",
    "        test_acc = torch.sum(logits[test_mask].argmax(1) == labels[test_mask]).item() / test_mask.sum().item()\n",
    "        print(f'Epoch {epoch + 1:02d}, Loss: {loss:.4f}, Train: {train_acc:.4f}, Val: {val_acc:.4f}, Test: {test_acc:.4f}')"
   ]
  },
  {
   "cell_type": "code",
   "execution_count": 6,
   "metadata": {},
   "outputs": [
    {
     "name": "stdout",
     "output_type": "stream",
     "text": [
      "Epoch 01, Loss: 3.6816, Train: 0.0000, Val: 0.0000, Test: 0.0000\n",
      "Epoch 02, Loss: 3.5971, Train: 0.0000, Val: 0.0000, Test: 0.0000\n",
      "Epoch 03, Loss: 3.4708, Train: 0.0000, Val: 0.0000, Test: 0.0000\n",
      "Epoch 04, Loss: 3.3231, Train: 0.0000, Val: 0.0000, Test: 0.0000\n",
      "Epoch 05, Loss: 3.1880, Train: 0.0000, Val: 0.0000, Test: 0.0000\n",
      "Epoch 06, Loss: 3.0999, Train: 0.0000, Val: 0.0000, Test: 0.0000\n",
      "Epoch 07, Loss: 3.0546, Train: 0.0000, Val: 0.0000, Test: 0.0000\n",
      "Epoch 08, Loss: 3.0259, Train: 0.0000, Val: 0.0000, Test: 0.0000\n",
      "Epoch 09, Loss: 2.9899, Train: 0.0000, Val: 0.0000, Test: 0.0000\n",
      "Epoch 10, Loss: 2.9468, Train: 0.0000, Val: 0.0000, Test: 0.0000\n",
      "Epoch 11, Loss: 2.9036, Train: 0.0000, Val: 0.0000, Test: 0.0000\n",
      "Epoch 12, Loss: 2.8619, Train: 0.0000, Val: 0.0000, Test: 0.0000\n",
      "Epoch 13, Loss: 2.8208, Train: 0.0000, Val: 0.0000, Test: 0.0000\n",
      "Epoch 14, Loss: 2.7818, Train: 0.0000, Val: 0.0000, Test: 0.0000\n",
      "Epoch 15, Loss: 2.7450, Train: 0.0000, Val: 0.0000, Test: 0.0000\n",
      "Epoch 16, Loss: 2.7099, Train: 0.0000, Val: 0.0000, Test: 0.0000\n",
      "Epoch 17, Loss: 2.6761, Train: 0.0000, Val: 0.0000, Test: 0.0000\n",
      "Epoch 18, Loss: 2.6425, Train: 0.0000, Val: 0.0000, Test: 0.0000\n",
      "Epoch 19, Loss: 2.6085, Train: 0.0000, Val: 0.0000, Test: 0.0000\n",
      "Epoch 20, Loss: 2.5754, Train: 0.0000, Val: 0.0000, Test: 0.0000\n",
      "Epoch 21, Loss: 2.5438, Train: 0.0000, Val: 0.0000, Test: 0.0000\n",
      "Epoch 22, Loss: 2.5131, Train: 0.0000, Val: 0.0000, Test: 0.0000\n",
      "Epoch 23, Loss: 2.4825, Train: 0.0000, Val: 0.0000, Test: 0.0000\n",
      "Epoch 24, Loss: 2.4516, Train: 0.0000, Val: 0.0000, Test: 0.0000\n",
      "Epoch 25, Loss: 2.4210, Train: 0.0000, Val: 0.0000, Test: 0.0000\n",
      "Epoch 26, Loss: 2.3917, Train: 0.0000, Val: 0.0000, Test: 0.0000\n",
      "Epoch 27, Loss: 2.3632, Train: 0.0000, Val: 0.0000, Test: 0.0000\n",
      "Epoch 28, Loss: 2.3348, Train: 0.0000, Val: 0.0000, Test: 0.0000\n",
      "Epoch 29, Loss: 2.3066, Train: 0.0000, Val: 0.0000, Test: 0.0000\n",
      "Epoch 30, Loss: 2.2786, Train: 0.0000, Val: 0.0000, Test: 0.0000\n",
      "Epoch 31, Loss: 2.2505, Train: 0.0000, Val: 0.0000, Test: 0.0000\n",
      "Epoch 32, Loss: 2.2230, Train: 0.0000, Val: 0.0000, Test: 0.0000\n",
      "Epoch 33, Loss: 2.1960, Train: 0.0000, Val: 0.0000, Test: 0.0000\n",
      "Epoch 34, Loss: 2.1687, Train: 0.0000, Val: 0.0000, Test: 0.0000\n",
      "Epoch 35, Loss: 2.1412, Train: 0.0000, Val: 0.0000, Test: 0.0000\n",
      "Epoch 36, Loss: 2.1141, Train: 0.0000, Val: 0.0000, Test: 0.0000\n",
      "Epoch 37, Loss: 2.0875, Train: 0.0000, Val: 0.0000, Test: 0.0000\n",
      "Epoch 38, Loss: 2.0612, Train: 0.0000, Val: 0.0000, Test: 0.0000\n",
      "Epoch 39, Loss: 2.0355, Train: 0.0000, Val: 0.0000, Test: 0.0000\n",
      "Epoch 40, Loss: 2.0100, Train: 0.0000, Val: 0.0000, Test: 0.0000\n",
      "Epoch 41, Loss: 1.9847, Train: 0.0000, Val: 0.0000, Test: 0.0000\n",
      "Epoch 42, Loss: 1.9595, Train: 0.0000, Val: 0.0000, Test: 0.0000\n",
      "Epoch 43, Loss: 1.9342, Train: 0.0000, Val: 0.0000, Test: 0.0000\n",
      "Epoch 44, Loss: 1.9092, Train: 0.0000, Val: 0.0000, Test: 0.0000\n",
      "Epoch 45, Loss: 1.8844, Train: 0.0000, Val: 0.0000, Test: 0.0000\n",
      "Epoch 46, Loss: 1.8599, Train: 0.0000, Val: 0.0000, Test: 0.0000\n",
      "Epoch 47, Loss: 1.8365, Train: 0.0000, Val: 0.0000, Test: 0.0000\n",
      "Epoch 48, Loss: 1.8139, Train: 0.0000, Val: 0.0000, Test: 0.0000\n",
      "Epoch 49, Loss: 1.7913, Train: 0.0000, Val: 0.0000, Test: 0.0000\n",
      "Epoch 50, Loss: 1.7692, Train: 0.0000, Val: 0.0000, Test: 0.0000\n",
      "Epoch 51, Loss: 1.7483, Train: 0.0000, Val: 0.0000, Test: 0.0000\n",
      "Epoch 52, Loss: 1.7283, Train: 0.0000, Val: 0.0000, Test: 0.0000\n",
      "Epoch 53, Loss: 1.7090, Train: 0.0000, Val: 0.0000, Test: 0.0000\n",
      "Epoch 54, Loss: 1.6905, Train: 0.0000, Val: 0.0000, Test: 0.0000\n",
      "Epoch 55, Loss: 1.6729, Train: 0.0000, Val: 0.0000, Test: 0.0000\n",
      "Epoch 56, Loss: 1.6563, Train: 0.0000, Val: 0.0000, Test: 0.0000\n",
      "Epoch 57, Loss: 1.6405, Train: 0.0000, Val: 0.0000, Test: 0.0000\n",
      "Epoch 58, Loss: 1.6256, Train: 0.0000, Val: 0.0000, Test: 0.0000\n",
      "Epoch 59, Loss: 1.6116, Train: 0.0000, Val: 0.0000, Test: 0.0000\n",
      "Epoch 60, Loss: 1.5981, Train: 0.0000, Val: 0.0000, Test: 0.0000\n",
      "Epoch 61, Loss: 1.5853, Train: 0.0000, Val: 0.0000, Test: 0.0000\n",
      "Epoch 62, Loss: 1.5736, Train: 0.0000, Val: 0.0000, Test: 0.0000\n",
      "Epoch 63, Loss: 1.5625, Train: 0.0000, Val: 0.0000, Test: 0.0000\n",
      "Epoch 64, Loss: 1.5517, Train: 0.0000, Val: 0.0000, Test: 0.0000\n",
      "Epoch 65, Loss: 1.5418, Train: 0.0000, Val: 0.0000, Test: 0.0000\n",
      "Epoch 66, Loss: 1.5325, Train: 0.0000, Val: 0.0000, Test: 0.0000\n",
      "Epoch 67, Loss: 1.5234, Train: 0.0000, Val: 0.0000, Test: 0.0000\n",
      "Epoch 68, Loss: 1.5149, Train: 0.0000, Val: 0.0000, Test: 0.0000\n",
      "Epoch 69, Loss: 1.5070, Train: 0.0000, Val: 0.0000, Test: 0.0000\n",
      "Epoch 70, Loss: 1.4993, Train: 0.0000, Val: 0.0000, Test: 0.0000\n",
      "Epoch 71, Loss: 1.4919, Train: 0.0000, Val: 0.0000, Test: 0.0000\n",
      "Epoch 72, Loss: 1.4851, Train: 0.0000, Val: 0.0000, Test: 0.0000\n",
      "Epoch 73, Loss: 1.4785, Train: 0.0000, Val: 0.0000, Test: 0.0000\n",
      "Epoch 74, Loss: 1.4721, Train: 0.0000, Val: 0.0000, Test: 0.0000\n",
      "Epoch 75, Loss: 1.4662, Train: 0.0000, Val: 0.0000, Test: 0.0000\n",
      "Epoch 76, Loss: 1.4605, Train: 0.0000, Val: 0.0000, Test: 0.0000\n",
      "Epoch 77, Loss: 1.4549, Train: 0.0000, Val: 0.0000, Test: 0.0000\n",
      "Epoch 78, Loss: 1.4498, Train: 0.0000, Val: 0.0000, Test: 0.0000\n",
      "Epoch 79, Loss: 1.4448, Train: 0.0000, Val: 0.0000, Test: 0.0000\n",
      "Epoch 80, Loss: 1.4400, Train: 0.0000, Val: 0.0000, Test: 0.0000\n",
      "Epoch 81, Loss: 1.4354, Train: 0.0000, Val: 0.0000, Test: 0.0000\n",
      "Epoch 82, Loss: 1.4310, Train: 0.0000, Val: 0.0000, Test: 0.0000\n",
      "Epoch 83, Loss: 1.4269, Train: 0.0000, Val: 0.0000, Test: 0.0000\n",
      "Epoch 84, Loss: 1.4228, Train: 0.0000, Val: 0.0000, Test: 0.0000\n",
      "Epoch 85, Loss: 1.4190, Train: 0.0000, Val: 0.0000, Test: 0.0000\n",
      "Epoch 86, Loss: 1.4153, Train: 0.0000, Val: 0.0000, Test: 0.0000\n",
      "Epoch 87, Loss: 1.4118, Train: 0.0000, Val: 0.0000, Test: 0.0000\n",
      "Epoch 88, Loss: 1.4083, Train: 0.0000, Val: 0.0000, Test: 0.0000\n",
      "Epoch 89, Loss: 1.4050, Train: 0.0000, Val: 0.0000, Test: 0.0000\n",
      "Epoch 90, Loss: 1.4019, Train: 0.0000, Val: 0.0000, Test: 0.0000\n",
      "Epoch 91, Loss: 1.3988, Train: 0.0000, Val: 0.0000, Test: 0.0000\n",
      "Epoch 92, Loss: 1.3959, Train: 0.0000, Val: 0.0000, Test: 0.0000\n",
      "Epoch 93, Loss: 1.3931, Train: 0.0000, Val: 0.0000, Test: 0.0000\n",
      "Epoch 94, Loss: 1.3903, Train: 0.0000, Val: 0.0000, Test: 0.0000\n",
      "Epoch 95, Loss: 1.3877, Train: 0.0000, Val: 0.0000, Test: 0.0000\n",
      "Epoch 96, Loss: 1.3851, Train: 0.0000, Val: 0.0000, Test: 0.0000\n",
      "Epoch 97, Loss: 1.3826, Train: 0.0000, Val: 0.0000, Test: 0.0000\n",
      "Epoch 98, Loss: 1.3802, Train: 0.0000, Val: 0.0000, Test: 0.0000\n",
      "Epoch 99, Loss: 1.3779, Train: 0.0000, Val: 0.0000, Test: 0.0000\n",
      "Epoch 100, Loss: 1.3756, Train: 0.0000, Val: 0.0000, Test: 0.0000\n"
     ]
    }
   ],
   "source": [
    "train(model, g, features, labels, train_mask, val_mask, test_mask)"
   ]
  }
 ],
 "metadata": {
  "kernelspec": {
   "display_name": "Python 3.9.6 ('venv': venv)",
   "language": "python",
   "name": "python3"
  },
  "language_info": {
   "codemirror_mode": {
    "name": "ipython",
    "version": 3
   },
   "file_extension": ".py",
   "mimetype": "text/x-python",
   "name": "python",
   "nbconvert_exporter": "python",
   "pygments_lexer": "ipython3",
   "version": "3.9.6"
  },
  "orig_nbformat": 4,
  "vscode": {
   "interpreter": {
    "hash": "53236ea3850ed19be974e6741f9c7a7506ed085a4abb6419de9917a82e4ffe4f"
   }
  }
 },
 "nbformat": 4,
 "nbformat_minor": 2
}
