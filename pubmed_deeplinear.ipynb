{
 "cells": [
  {
   "cell_type": "code",
   "execution_count": 7,
   "metadata": {},
   "outputs": [],
   "source": [
    "from models import DeepLinear\n",
    "from dgl.data import CoraGraphDataset, CiteseerGraphDataset, PubmedGraphDataset\n",
    "import torch.nn as nn\n",
    "import torch\n",
    "import torch.nn.functional as F\n",
    "import dgl\n",
    "from time import perf_counter"
   ]
  },
  {
   "cell_type": "code",
   "execution_count": 8,
   "metadata": {},
   "outputs": [],
   "source": [
    "device = 'cpu'\n",
    "activation = nn.ReLU()\n",
    "epochs = 50\n",
    "batch_size = 10000\n",
    "lr = 0.02\n",
    "loss_fn = nn.CrossEntropyLoss()\n",
    "weight_decay = 5e-4"
   ]
  },
  {
   "cell_type": "code",
   "execution_count": 9,
   "metadata": {},
   "outputs": [
    {
     "name": "stdout",
     "output_type": "stream",
     "text": [
      "  NumNodes: 19717\n",
      "  NumEdges: 88651\n",
      "  NumFeats: 500\n",
      "  NumClasses: 3\n",
      "  NumTrainingSamples: 60\n",
      "  NumValidationSamples: 500\n",
      "  NumTestSamples: 1000\n",
      "Done loading data from cached files.\n"
     ]
    }
   ],
   "source": [
    "data = PubmedGraphDataset()\n",
    "g = data[0]\n",
    "g = g.to(device)\n",
    "features = g.ndata['feat']\n",
    "labels = g.ndata['label']\n",
    "train_mask = g.ndata['train_mask']\n",
    "val_mask = g.ndata['val_mask']\n",
    "test_mask = g.ndata['test_mask']\n",
    "in_feats = features.shape[-1]\n",
    "n_classes = data.num_labels\n",
    "n_edges = g.number_of_edges()\n",
    "g = dgl.remove_self_loop(g)\n",
    "g = dgl.add_self_loop(g)"
   ]
  },
  {
   "cell_type": "code",
   "execution_count": 10,
   "metadata": {},
   "outputs": [],
   "source": [
    "model = DeepLinear(\"SGC\",{},in_feats, 16, n_classes, 2, 2, activation, dropout=0.2)\n",
    "optimizer = torch.optim.Adam(model.parameters(), lr=lr, weight_decay=weight_decay)"
   ]
  },
  {
   "cell_type": "code",
   "execution_count": 11,
   "metadata": {},
   "outputs": [],
   "source": [
    "def train(model, g, features, labels, train_mask, val_mask, test_mask):\n",
    "    t = perf_counter()\n",
    "    for epoch in range(epochs):\n",
    "        model.train()\n",
    "        logits = model(g, features)\n",
    "        loss = loss_fn(logits[train_mask], labels[train_mask])\n",
    "        optimizer.zero_grad()\n",
    "        loss.backward()\n",
    "        optimizer.step()\n",
    "\n",
    "        model.eval()\n",
    "        logits = model(g, features)\n",
    "        train_acc = torch.sum(logits[train_mask].argmax(1) == labels[train_mask]).item() / train_mask.sum().item()\n",
    "        val_acc = torch.sum(logits[val_mask].argmax(1) == labels[val_mask]).item() / val_mask.sum().item()\n",
    "        test_acc = torch.sum(logits[test_mask].argmax(1) == labels[test_mask]).item() / test_mask.sum().item()\n",
    "        print(f'Epoch {epoch + 1:02d}, Loss: {loss:.4f}, Train: {train_acc:.4f}, Val: {val_acc:.4f}, Test: {test_acc:.4f}')\n",
    "\n",
    "    training_time = perf_counter()-t\n",
    "    print(f'Training time: {training_time:.4f}s')"
   ]
  },
  {
   "cell_type": "code",
   "execution_count": 12,
   "metadata": {},
   "outputs": [
    {
     "name": "stdout",
     "output_type": "stream",
     "text": [
      "Epoch 01, Loss: 1.1131, Train: 0.3333, Val: 0.2360, Test: 0.2230\n",
      "Epoch 02, Loss: 1.3907, Train: 0.6667, Val: 0.6160, Test: 0.6060\n",
      "Epoch 03, Loss: 0.7675, Train: 0.7500, Val: 0.6800, Test: 0.6840\n",
      "Epoch 04, Loss: 0.8101, Train: 0.7333, Val: 0.6440, Test: 0.6860\n",
      "Epoch 05, Loss: 0.8300, Train: 0.7667, Val: 0.6760, Test: 0.7060\n",
      "Epoch 06, Loss: 0.7819, Train: 0.8667, Val: 0.7100, Test: 0.7260\n",
      "Epoch 07, Loss: 0.6724, Train: 0.8667, Val: 0.7280, Test: 0.7190\n",
      "Epoch 08, Loss: 0.5693, Train: 0.9000, Val: 0.7500, Test: 0.7240\n",
      "Epoch 09, Loss: 0.5133, Train: 0.9000, Val: 0.7340, Test: 0.7420\n",
      "Epoch 10, Loss: 0.4986, Train: 0.9000, Val: 0.7420, Test: 0.7500\n",
      "Epoch 11, Loss: 0.4193, Train: 0.9167, Val: 0.7620, Test: 0.7550\n",
      "Epoch 12, Loss: 0.3656, Train: 0.9333, Val: 0.7680, Test: 0.7530\n",
      "Epoch 13, Loss: 0.3369, Train: 0.9333, Val: 0.7680, Test: 0.7590\n",
      "Epoch 14, Loss: 0.2975, Train: 0.9333, Val: 0.7760, Test: 0.7590\n",
      "Epoch 15, Loss: 0.2672, Train: 0.9167, Val: 0.7760, Test: 0.7520\n",
      "Epoch 16, Loss: 0.2498, Train: 0.9333, Val: 0.7760, Test: 0.7480\n",
      "Epoch 17, Loss: 0.2025, Train: 0.9667, Val: 0.7720, Test: 0.7580\n",
      "Epoch 18, Loss: 0.1689, Train: 0.9833, Val: 0.7820, Test: 0.7630\n",
      "Epoch 19, Loss: 0.1835, Train: 1.0000, Val: 0.7860, Test: 0.7610\n",
      "Epoch 20, Loss: 0.1501, Train: 1.0000, Val: 0.7880, Test: 0.7580\n",
      "Epoch 21, Loss: 0.1168, Train: 1.0000, Val: 0.7900, Test: 0.7600\n",
      "Epoch 22, Loss: 0.1360, Train: 1.0000, Val: 0.7880, Test: 0.7650\n",
      "Epoch 23, Loss: 0.1517, Train: 1.0000, Val: 0.7760, Test: 0.7620\n",
      "Epoch 24, Loss: 0.0814, Train: 1.0000, Val: 0.7780, Test: 0.7620\n",
      "Epoch 25, Loss: 0.1575, Train: 1.0000, Val: 0.7760, Test: 0.7670\n",
      "Epoch 26, Loss: 0.0894, Train: 1.0000, Val: 0.7760, Test: 0.7670\n",
      "Epoch 27, Loss: 0.0879, Train: 1.0000, Val: 0.7800, Test: 0.7670\n",
      "Epoch 28, Loss: 0.0535, Train: 1.0000, Val: 0.7840, Test: 0.7680\n",
      "Epoch 29, Loss: 0.0520, Train: 1.0000, Val: 0.7780, Test: 0.7750\n",
      "Epoch 30, Loss: 0.0326, Train: 1.0000, Val: 0.7760, Test: 0.7760\n",
      "Epoch 31, Loss: 0.0499, Train: 1.0000, Val: 0.7740, Test: 0.7740\n",
      "Epoch 32, Loss: 0.0960, Train: 1.0000, Val: 0.7760, Test: 0.7730\n",
      "Epoch 33, Loss: 0.0619, Train: 1.0000, Val: 0.7740, Test: 0.7740\n",
      "Epoch 34, Loss: 0.0356, Train: 1.0000, Val: 0.7720, Test: 0.7720\n",
      "Epoch 35, Loss: 0.0328, Train: 1.0000, Val: 0.7700, Test: 0.7710\n",
      "Epoch 36, Loss: 0.0438, Train: 1.0000, Val: 0.7740, Test: 0.7760\n",
      "Epoch 37, Loss: 0.0401, Train: 1.0000, Val: 0.7720, Test: 0.7780\n",
      "Epoch 38, Loss: 0.0347, Train: 1.0000, Val: 0.7760, Test: 0.7780\n",
      "Epoch 39, Loss: 0.0313, Train: 1.0000, Val: 0.7780, Test: 0.7770\n",
      "Epoch 40, Loss: 0.0286, Train: 1.0000, Val: 0.7780, Test: 0.7780\n",
      "Epoch 41, Loss: 0.0326, Train: 1.0000, Val: 0.7840, Test: 0.7710\n",
      "Epoch 42, Loss: 0.0197, Train: 1.0000, Val: 0.7760, Test: 0.7680\n",
      "Epoch 43, Loss: 0.0173, Train: 1.0000, Val: 0.7780, Test: 0.7630\n",
      "Epoch 44, Loss: 0.0097, Train: 1.0000, Val: 0.7840, Test: 0.7620\n",
      "Epoch 45, Loss: 0.0413, Train: 1.0000, Val: 0.7820, Test: 0.7600\n",
      "Epoch 46, Loss: 0.0176, Train: 1.0000, Val: 0.7860, Test: 0.7580\n",
      "Epoch 47, Loss: 0.0141, Train: 1.0000, Val: 0.7860, Test: 0.7590\n",
      "Epoch 48, Loss: 0.0353, Train: 1.0000, Val: 0.7800, Test: 0.7590\n",
      "Epoch 49, Loss: 0.0161, Train: 1.0000, Val: 0.7900, Test: 0.7640\n",
      "Epoch 50, Loss: 0.0096, Train: 1.0000, Val: 0.8000, Test: 0.7580\n",
      "Training time: 85.5474s\n"
     ]
    }
   ],
   "source": [
    "train(model, g, features, labels, train_mask, val_mask, test_mask)"
   ]
  }
 ],
 "metadata": {
  "kernelspec": {
   "display_name": "Python 3.9.6 ('venv': venv)",
   "language": "python",
   "name": "python3"
  },
  "language_info": {
   "codemirror_mode": {
    "name": "ipython",
    "version": 3
   },
   "file_extension": ".py",
   "mimetype": "text/x-python",
   "name": "python",
   "nbconvert_exporter": "python",
   "pygments_lexer": "ipython3",
   "version": "3.9.6"
  },
  "orig_nbformat": 4,
  "vscode": {
   "interpreter": {
    "hash": "53236ea3850ed19be974e6741f9c7a7506ed085a4abb6419de9917a82e4ffe4f"
   }
  }
 },
 "nbformat": 4,
 "nbformat_minor": 2
}
