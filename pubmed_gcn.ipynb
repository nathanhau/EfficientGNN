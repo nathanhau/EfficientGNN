{
 "cells": [
  {
   "cell_type": "code",
   "execution_count": 1,
   "metadata": {},
   "outputs": [
    {
     "name": "stderr",
     "output_type": "stream",
     "text": [
      "d:\\Files\\Coding\\ml\\EfficientGNN\\venv\\lib\\site-packages\\tqdm\\auto.py:22: TqdmWarning: IProgress not found. Please update jupyter and ipywidgets. See https://ipywidgets.readthedocs.io/en/stable/user_install.html\n",
      "  from .autonotebook import tqdm as notebook_tqdm\n"
     ]
    }
   ],
   "source": [
    "from models import GCN\n",
    "from dgl.data import CoraGraphDataset, CiteseerGraphDataset, PubmedGraphDataset\n",
    "import torch.nn as nn\n",
    "import torch\n",
    "import torch.nn.functional as F\n",
    "import dgl"
   ]
  },
  {
   "cell_type": "code",
   "execution_count": 2,
   "metadata": {},
   "outputs": [],
   "source": [
    "device = 'cpu'\n",
    "activation = nn.ReLU()\n",
    "epochs = 100\n",
    "batch_size = 10000\n",
    "lr = 0.02\n",
    "loss_fn = nn.CrossEntropyLoss()\n",
    "weight_decay = 5e-4"
   ]
  },
  {
   "cell_type": "code",
   "execution_count": 3,
   "metadata": {},
   "outputs": [
    {
     "name": "stdout",
     "output_type": "stream",
     "text": [
      "  NumNodes: 19717\n",
      "  NumEdges: 88651\n",
      "  NumFeats: 500\n",
      "  NumClasses: 3\n",
      "  NumTrainingSamples: 60\n",
      "  NumValidationSamples: 500\n",
      "  NumTestSamples: 1000\n",
      "Done loading data from cached files.\n"
     ]
    },
    {
     "name": "stderr",
     "output_type": "stream",
     "text": [
      "d:\\Files\\Coding\\ml\\EfficientGNN\\venv\\lib\\site-packages\\dgl\\data\\utils.py:288: UserWarning: Property dataset.num_labels will be deprecated, please use dataset.num_classes instead.\n",
      "  warnings.warn('Property {} will be deprecated, please use {} instead.'.format(old, new))\n"
     ]
    }
   ],
   "source": [
    "data = PubmedGraphDataset()\n",
    "g = data[0]\n",
    "g = g.to(device)\n",
    "features = g.ndata['feat']\n",
    "labels = g.ndata['label']\n",
    "train_mask = g.ndata['train_mask']\n",
    "val_mask = g.ndata['val_mask']\n",
    "test_mask = g.ndata['test_mask']\n",
    "in_feats = features.shape[-1]\n",
    "n_classes = data.num_labels\n",
    "n_edges = g.number_of_edges()\n",
    "g = dgl.remove_self_loop(g)\n",
    "g = dgl.add_self_loop(g)"
   ]
  },
  {
   "cell_type": "code",
   "execution_count": 4,
   "metadata": {},
   "outputs": [],
   "source": [
    "model = GCN(in_feats, 16, n_classes, 2, activation, dropout=0.2)\n",
    "optimizer = torch.optim.Adam(model.parameters(), lr=lr, weight_decay=weight_decay)"
   ]
  },
  {
   "cell_type": "code",
   "execution_count": 5,
   "metadata": {},
   "outputs": [],
   "source": [
    "def train(model, g, features, labels, train_mask, val_mask, test_mask):\n",
    "    for epoch in range(epochs):\n",
    "        model.train()\n",
    "        logits = model(g, features)\n",
    "        loss = loss_fn(logits[train_mask], labels[train_mask])\n",
    "        optimizer.zero_grad()\n",
    "        loss.backward()\n",
    "        optimizer.step()\n",
    "\n",
    "        model.eval()\n",
    "        logits = model(g, features)\n",
    "        train_acc = torch.sum(logits[train_mask].argmax(1) == labels[train_mask]).item() / train_mask.sum().item()\n",
    "        val_acc = torch.sum(logits[val_mask].argmax(1) == labels[val_mask]).item() / val_mask.sum().item()\n",
    "        test_acc = torch.sum(logits[test_mask].argmax(1) == labels[test_mask]).item() / test_mask.sum().item()\n",
    "        print(f'Epoch {epoch + 1:02d}, Loss: {loss:.4f}, Train: {train_acc:.4f}, Val: {val_acc:.4f}, Test: {test_acc:.4f}')"
   ]
  },
  {
   "cell_type": "code",
   "execution_count": 6,
   "metadata": {},
   "outputs": [
    {
     "name": "stdout",
     "output_type": "stream",
     "text": [
      "Epoch 01, Loss: 1.0990, Train: 0.3500, Val: 0.4180, Test: 0.4070\n",
      "Epoch 02, Loss: 1.0905, Train: 0.8833, Val: 0.6620, Test: 0.6140\n",
      "Epoch 03, Loss: 1.0785, Train: 0.9333, Val: 0.7380, Test: 0.7270\n",
      "Epoch 04, Loss: 1.0614, Train: 0.9500, Val: 0.7440, Test: 0.7160\n",
      "Epoch 05, Loss: 1.0457, Train: 0.9167, Val: 0.7180, Test: 0.6940\n",
      "Epoch 06, Loss: 1.0247, Train: 0.8833, Val: 0.7180, Test: 0.6690\n",
      "Epoch 07, Loss: 1.0093, Train: 0.8833, Val: 0.7220, Test: 0.6730\n",
      "Epoch 08, Loss: 0.9861, Train: 0.9167, Val: 0.7260, Test: 0.6760\n",
      "Epoch 09, Loss: 0.9546, Train: 0.9167, Val: 0.7280, Test: 0.6920\n",
      "Epoch 10, Loss: 0.9339, Train: 0.9500, Val: 0.7200, Test: 0.7110\n",
      "Epoch 11, Loss: 0.9159, Train: 0.9500, Val: 0.7360, Test: 0.7150\n",
      "Epoch 12, Loss: 0.8898, Train: 0.9500, Val: 0.7460, Test: 0.7130\n",
      "Epoch 13, Loss: 0.8682, Train: 0.9500, Val: 0.7460, Test: 0.7030\n",
      "Epoch 14, Loss: 0.8395, Train: 0.9333, Val: 0.7360, Test: 0.7080\n",
      "Epoch 15, Loss: 0.8020, Train: 0.9333, Val: 0.7300, Test: 0.7070\n",
      "Epoch 16, Loss: 0.7738, Train: 0.9500, Val: 0.7380, Test: 0.7060\n",
      "Epoch 17, Loss: 0.7525, Train: 0.9500, Val: 0.7480, Test: 0.7060\n",
      "Epoch 18, Loss: 0.7126, Train: 0.9500, Val: 0.7500, Test: 0.7090\n",
      "Epoch 19, Loss: 0.6977, Train: 0.9500, Val: 0.7480, Test: 0.7150\n",
      "Epoch 20, Loss: 0.6672, Train: 0.9500, Val: 0.7560, Test: 0.7180\n",
      "Epoch 21, Loss: 0.6216, Train: 0.9500, Val: 0.7580, Test: 0.7210\n",
      "Epoch 22, Loss: 0.6152, Train: 0.9500, Val: 0.7560, Test: 0.7240\n",
      "Epoch 23, Loss: 0.6026, Train: 0.9500, Val: 0.7580, Test: 0.7270\n",
      "Epoch 24, Loss: 0.5464, Train: 0.9667, Val: 0.7560, Test: 0.7300\n",
      "Epoch 25, Loss: 0.5456, Train: 0.9667, Val: 0.7640, Test: 0.7390\n",
      "Epoch 26, Loss: 0.5141, Train: 0.9667, Val: 0.7660, Test: 0.7430\n",
      "Epoch 27, Loss: 0.5104, Train: 0.9667, Val: 0.7640, Test: 0.7430\n",
      "Epoch 28, Loss: 0.4843, Train: 0.9667, Val: 0.7680, Test: 0.7490\n",
      "Epoch 29, Loss: 0.4623, Train: 0.9667, Val: 0.7720, Test: 0.7500\n",
      "Epoch 30, Loss: 0.4559, Train: 0.9667, Val: 0.7740, Test: 0.7550\n",
      "Epoch 31, Loss: 0.4245, Train: 0.9667, Val: 0.7780, Test: 0.7610\n",
      "Epoch 32, Loss: 0.4171, Train: 0.9667, Val: 0.7800, Test: 0.7660\n",
      "Epoch 33, Loss: 0.3612, Train: 0.9667, Val: 0.7740, Test: 0.7670\n",
      "Epoch 34, Loss: 0.3765, Train: 0.9667, Val: 0.7800, Test: 0.7660\n",
      "Epoch 35, Loss: 0.3903, Train: 0.9667, Val: 0.7800, Test: 0.7670\n",
      "Epoch 36, Loss: 0.3721, Train: 0.9667, Val: 0.7800, Test: 0.7740\n",
      "Epoch 37, Loss: 0.3593, Train: 0.9667, Val: 0.7920, Test: 0.7740\n",
      "Epoch 38, Loss: 0.3311, Train: 0.9667, Val: 0.7880, Test: 0.7710\n",
      "Epoch 39, Loss: 0.3268, Train: 0.9667, Val: 0.7880, Test: 0.7750\n",
      "Epoch 40, Loss: 0.3107, Train: 0.9667, Val: 0.7860, Test: 0.7780\n",
      "Epoch 41, Loss: 0.3074, Train: 0.9667, Val: 0.7820, Test: 0.7740\n",
      "Epoch 42, Loss: 0.3066, Train: 0.9667, Val: 0.7860, Test: 0.7710\n",
      "Epoch 43, Loss: 0.3123, Train: 0.9667, Val: 0.7860, Test: 0.7700\n",
      "Epoch 44, Loss: 0.2764, Train: 0.9667, Val: 0.7980, Test: 0.7780\n",
      "Epoch 45, Loss: 0.2886, Train: 0.9667, Val: 0.8040, Test: 0.7870\n",
      "Epoch 46, Loss: 0.2684, Train: 0.9833, Val: 0.7980, Test: 0.7820\n",
      "Epoch 47, Loss: 0.2710, Train: 0.9833, Val: 0.7980, Test: 0.7800\n",
      "Epoch 48, Loss: 0.2609, Train: 0.9833, Val: 0.7880, Test: 0.7830\n",
      "Epoch 49, Loss: 0.2581, Train: 1.0000, Val: 0.7980, Test: 0.7850\n",
      "Epoch 50, Loss: 0.2363, Train: 1.0000, Val: 0.7960, Test: 0.7760\n",
      "Epoch 51, Loss: 0.2596, Train: 1.0000, Val: 0.7960, Test: 0.7760\n",
      "Epoch 52, Loss: 0.2256, Train: 1.0000, Val: 0.7980, Test: 0.7780\n",
      "Epoch 53, Loss: 0.2090, Train: 1.0000, Val: 0.8020, Test: 0.7830\n",
      "Epoch 54, Loss: 0.2150, Train: 1.0000, Val: 0.7980, Test: 0.7900\n",
      "Epoch 55, Loss: 0.2360, Train: 0.9833, Val: 0.8020, Test: 0.7940\n",
      "Epoch 56, Loss: 0.2311, Train: 0.9833, Val: 0.7980, Test: 0.7870\n",
      "Epoch 57, Loss: 0.2147, Train: 0.9833, Val: 0.7960, Test: 0.7900\n",
      "Epoch 58, Loss: 0.2108, Train: 1.0000, Val: 0.8020, Test: 0.7900\n",
      "Epoch 59, Loss: 0.1868, Train: 1.0000, Val: 0.8020, Test: 0.7900\n",
      "Epoch 60, Loss: 0.1682, Train: 1.0000, Val: 0.7980, Test: 0.7820\n",
      "Epoch 61, Loss: 0.2008, Train: 1.0000, Val: 0.7940, Test: 0.7730\n",
      "Epoch 62, Loss: 0.2054, Train: 1.0000, Val: 0.7940, Test: 0.7720\n",
      "Epoch 63, Loss: 0.2123, Train: 1.0000, Val: 0.7980, Test: 0.7810\n",
      "Epoch 64, Loss: 0.1988, Train: 1.0000, Val: 0.8060, Test: 0.7970\n",
      "Epoch 65, Loss: 0.1985, Train: 0.9833, Val: 0.7940, Test: 0.7950\n",
      "Epoch 66, Loss: 0.2006, Train: 0.9833, Val: 0.7980, Test: 0.7890\n",
      "Epoch 67, Loss: 0.1825, Train: 0.9833, Val: 0.7960, Test: 0.7910\n",
      "Epoch 68, Loss: 0.2172, Train: 1.0000, Val: 0.7960, Test: 0.7930\n",
      "Epoch 69, Loss: 0.2084, Train: 1.0000, Val: 0.7980, Test: 0.7920\n",
      "Epoch 70, Loss: 0.1759, Train: 1.0000, Val: 0.7900, Test: 0.7810\n",
      "Epoch 71, Loss: 0.1713, Train: 1.0000, Val: 0.7960, Test: 0.7800\n",
      "Epoch 72, Loss: 0.1916, Train: 1.0000, Val: 0.7880, Test: 0.7830\n",
      "Epoch 73, Loss: 0.1681, Train: 1.0000, Val: 0.7940, Test: 0.7930\n",
      "Epoch 74, Loss: 0.1755, Train: 1.0000, Val: 0.7960, Test: 0.7920\n",
      "Epoch 75, Loss: 0.1999, Train: 1.0000, Val: 0.7940, Test: 0.7920\n",
      "Epoch 76, Loss: 0.1728, Train: 1.0000, Val: 0.7920, Test: 0.7940\n",
      "Epoch 77, Loss: 0.2120, Train: 1.0000, Val: 0.7960, Test: 0.7940\n",
      "Epoch 78, Loss: 0.1891, Train: 1.0000, Val: 0.7940, Test: 0.7900\n",
      "Epoch 79, Loss: 0.1803, Train: 1.0000, Val: 0.7940, Test: 0.7910\n",
      "Epoch 80, Loss: 0.1528, Train: 1.0000, Val: 0.7980, Test: 0.7910\n",
      "Epoch 81, Loss: 0.1719, Train: 1.0000, Val: 0.7980, Test: 0.7900\n",
      "Epoch 82, Loss: 0.1745, Train: 1.0000, Val: 0.8040, Test: 0.7950\n",
      "Epoch 83, Loss: 0.1519, Train: 1.0000, Val: 0.7980, Test: 0.7950\n",
      "Epoch 84, Loss: 0.1617, Train: 1.0000, Val: 0.8020, Test: 0.7940\n",
      "Epoch 85, Loss: 0.1629, Train: 1.0000, Val: 0.8060, Test: 0.7950\n",
      "Epoch 86, Loss: 0.1675, Train: 1.0000, Val: 0.8040, Test: 0.7910\n",
      "Epoch 87, Loss: 0.1691, Train: 1.0000, Val: 0.8040, Test: 0.7880\n",
      "Epoch 88, Loss: 0.1509, Train: 1.0000, Val: 0.8020, Test: 0.7870\n",
      "Epoch 89, Loss: 0.1376, Train: 1.0000, Val: 0.7980, Test: 0.7940\n",
      "Epoch 90, Loss: 0.1621, Train: 1.0000, Val: 0.7960, Test: 0.7960\n",
      "Epoch 91, Loss: 0.1548, Train: 1.0000, Val: 0.7960, Test: 0.7950\n",
      "Epoch 92, Loss: 0.1599, Train: 1.0000, Val: 0.7960, Test: 0.7960\n",
      "Epoch 93, Loss: 0.1623, Train: 1.0000, Val: 0.8000, Test: 0.7960\n",
      "Epoch 94, Loss: 0.1794, Train: 1.0000, Val: 0.7980, Test: 0.7880\n",
      "Epoch 95, Loss: 0.1564, Train: 1.0000, Val: 0.7900, Test: 0.7800\n",
      "Epoch 96, Loss: 0.1417, Train: 1.0000, Val: 0.7940, Test: 0.7860\n",
      "Epoch 97, Loss: 0.1441, Train: 1.0000, Val: 0.8000, Test: 0.7920\n",
      "Epoch 98, Loss: 0.1386, Train: 1.0000, Val: 0.7980, Test: 0.7940\n",
      "Epoch 99, Loss: 0.1392, Train: 1.0000, Val: 0.7940, Test: 0.7950\n",
      "Epoch 100, Loss: 0.1501, Train: 1.0000, Val: 0.7940, Test: 0.7960\n"
     ]
    }
   ],
   "source": [
    "train(model, g, features, labels, train_mask, val_mask, test_mask)"
   ]
  }
 ],
 "metadata": {
  "kernelspec": {
   "display_name": "Python 3.9.6 ('venv': venv)",
   "language": "python",
   "name": "python3"
  },
  "language_info": {
   "codemirror_mode": {
    "name": "ipython",
    "version": 3
   },
   "file_extension": ".py",
   "mimetype": "text/x-python",
   "name": "python",
   "nbconvert_exporter": "python",
   "pygments_lexer": "ipython3",
   "version": "3.9.6"
  },
  "orig_nbformat": 4,
  "vscode": {
   "interpreter": {
    "hash": "53236ea3850ed19be974e6741f9c7a7506ed085a4abb6419de9917a82e4ffe4f"
   }
  }
 },
 "nbformat": 4,
 "nbformat_minor": 2
}
