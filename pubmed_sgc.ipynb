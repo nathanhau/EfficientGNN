{
 "cells": [
  {
   "cell_type": "code",
   "execution_count": 1,
   "metadata": {},
   "outputs": [
    {
     "name": "stderr",
     "output_type": "stream",
     "text": [
      "d:\\Files\\Coding\\ml\\EfficientGNN\\venv\\lib\\site-packages\\tqdm\\auto.py:22: TqdmWarning: IProgress not found. Please update jupyter and ipywidgets. See https://ipywidgets.readthedocs.io/en/stable/user_install.html\n",
      "  from .autonotebook import tqdm as notebook_tqdm\n"
     ]
    }
   ],
   "source": [
    "import time\n",
    "import numpy as np\n",
    "import torch\n",
    "import torch.nn as nn\n",
    "import torch.nn.functional as F\n",
    "import dgl\n",
    "from dgl.data import CoraGraphDataset, CiteseerGraphDataset, PubmedGraphDataset\n",
    "from dgl.nn.pytorch.conv import SGConv"
   ]
  },
  {
   "cell_type": "code",
   "execution_count": 2,
   "metadata": {},
   "outputs": [],
   "source": [
    "lr = 0.2\n",
    "bias = False\n",
    "n_epochs = 100\n",
    "weight_decay = 5e-4\n",
    "loss_fn = torch.nn.CrossEntropyLoss()"
   ]
  },
  {
   "cell_type": "code",
   "execution_count": 3,
   "metadata": {},
   "outputs": [
    {
     "name": "stdout",
     "output_type": "stream",
     "text": [
      "  NumNodes: 19717\n",
      "  NumEdges: 88651\n",
      "  NumFeats: 500\n",
      "  NumClasses: 3\n",
      "  NumTrainingSamples: 60\n",
      "  NumValidationSamples: 500\n",
      "  NumTestSamples: 1000\n",
      "Done loading data from cached files.\n"
     ]
    },
    {
     "name": "stderr",
     "output_type": "stream",
     "text": [
      "d:\\Files\\Coding\\ml\\EfficientGNN\\venv\\lib\\site-packages\\dgl\\data\\utils.py:288: UserWarning: Property dataset.num_labels will be deprecated, please use dataset.num_classes instead.\n",
      "  warnings.warn('Property {} will be deprecated, please use {} instead.'.format(old, new))\n"
     ]
    }
   ],
   "source": [
    "data = PubmedGraphDataset()\n",
    "g = data[0]\n",
    "features = g.ndata['feat']\n",
    "labels = g.ndata['label']\n",
    "train_mask = g.ndata['train_mask']\n",
    "val_mask = g.ndata['val_mask']\n",
    "test_mask = g.ndata['test_mask']\n",
    "in_feats = features.shape[1]\n",
    "n_classes = data.num_labels\n",
    "n_edges = g.number_of_edges()\n",
    "g = dgl.remove_self_loop(g)\n",
    "g = dgl.add_self_loop(g)"
   ]
  },
  {
   "cell_type": "code",
   "execution_count": 4,
   "metadata": {},
   "outputs": [],
   "source": [
    "model = SGConv(in_feats, n_classes, k=2, cached=True, bias=bias)\n",
    "optimizer = torch.optim.Adam(model.parameters(), lr=lr, weight_decay=weight_decay)"
   ]
  },
  {
   "cell_type": "code",
   "execution_count": 5,
   "metadata": {},
   "outputs": [],
   "source": [
    "def test(model, g, features, labels, mask):\n",
    "    model.eval()\n",
    "    with torch.no_grad():\n",
    "        logits = model(g, features)[mask]  # only compute the evaluation set\n",
    "        labels = labels[mask]\n",
    "        _, indices = torch.max(logits, dim=1)\n",
    "        correct = torch.sum(indices == labels)\n",
    "        return correct.item() * 1.0 / len(labels)"
   ]
  },
  {
   "cell_type": "code",
   "execution_count": 6,
   "metadata": {},
   "outputs": [],
   "source": [
    "def train(model, g, features, labels, train_mask, val_mask):\n",
    "    dur = []\n",
    "    for epoch in range(n_epochs):\n",
    "        model.train()\n",
    "        if epoch >= 3:\n",
    "            t0 = time.time()\n",
    "        # forward\n",
    "        logits = model(g, features)  # only compute the train set\n",
    "        loss = loss_fn(logits[train_mask], labels[train_mask])\n",
    "\n",
    "        optimizer.zero_grad()\n",
    "        loss.backward()\n",
    "        optimizer.step()\n",
    "\n",
    "        if epoch >= 3:\n",
    "            dur.append(time.time() - t0)\n",
    "\n",
    "        acc = test(model, g, features, labels, val_mask)\n",
    "        print(\"Epoch {:05d} | Time(s) {:.4f} | Loss {:.4f} | Accuracy {:.4f} | \"\n",
    "            \"ETputs(KTEPS) {:.2f}\". format(epoch, np.mean(dur), loss.item(),\n",
    "                                            acc, n_edges / np.mean(dur) / 1000))"
   ]
  },
  {
   "cell_type": "code",
   "execution_count": 7,
   "metadata": {},
   "outputs": [
    {
     "name": "stderr",
     "output_type": "stream",
     "text": [
      "d:\\Files\\Coding\\ml\\EfficientGNN\\venv\\lib\\site-packages\\numpy\\core\\fromnumeric.py:3432: RuntimeWarning: Mean of empty slice.\n",
      "  return _methods._mean(a, axis=axis, dtype=dtype,\n",
      "d:\\Files\\Coding\\ml\\EfficientGNN\\venv\\lib\\site-packages\\numpy\\core\\_methods.py:190: RuntimeWarning: invalid value encountered in double_scalars\n",
      "  ret = ret.dtype.type(ret / rcount)\n"
     ]
    },
    {
     "name": "stdout",
     "output_type": "stream",
     "text": [
      "Epoch 00000 | Time(s) nan | Loss 1.0998 | Accuracy 0.7260 | ETputs(KTEPS) nan\n",
      "Epoch 00001 | Time(s) nan | Loss 1.0164 | Accuracy 0.7260 | ETputs(KTEPS) nan\n",
      "Epoch 00002 | Time(s) nan | Loss 0.9456 | Accuracy 0.7240 | ETputs(KTEPS) nan\n",
      "Epoch 00003 | Time(s) 0.0140 | Loss 0.8883 | Accuracy 0.7300 | ETputs(KTEPS) 6350.41\n",
      "Epoch 00004 | Time(s) 0.0145 | Loss 0.8440 | Accuracy 0.7340 | ETputs(KTEPS) 6130.28\n",
      "Epoch 00005 | Time(s) 0.0172 | Loss 0.8110 | Accuracy 0.7480 | ETputs(KTEPS) 5165.06\n",
      "Epoch 00006 | Time(s) 0.0161 | Loss 0.7874 | Accuracy 0.7540 | ETputs(KTEPS) 5502.14\n",
      "Epoch 00007 | Time(s) 0.0153 | Loss 0.7713 | Accuracy 0.7620 | ETputs(KTEPS) 5801.04\n",
      "Epoch 00008 | Time(s) 0.0153 | Loss 0.7610 | Accuracy 0.7580 | ETputs(KTEPS) 5785.51\n",
      "Epoch 00009 | Time(s) 0.0156 | Loss 0.7553 | Accuracy 0.7600 | ETputs(KTEPS) 5671.98\n",
      "Epoch 00010 | Time(s) 0.0157 | Loss 0.7527 | Accuracy 0.7680 | ETputs(KTEPS) 5657.60\n",
      "Epoch 00011 | Time(s) 0.0158 | Loss 0.7524 | Accuracy 0.7680 | ETputs(KTEPS) 5607.20\n",
      "Epoch 00012 | Time(s) 0.0158 | Loss 0.7535 | Accuracy 0.7780 | ETputs(KTEPS) 5599.18\n",
      "Epoch 00013 | Time(s) 0.0158 | Loss 0.7553 | Accuracy 0.7820 | ETputs(KTEPS) 5621.78\n",
      "Epoch 00014 | Time(s) 0.0157 | Loss 0.7575 | Accuracy 0.7840 | ETputs(KTEPS) 5629.48\n",
      "Epoch 00015 | Time(s) 0.0158 | Loss 0.7597 | Accuracy 0.7800 | ETputs(KTEPS) 5623.98\n",
      "Epoch 00016 | Time(s) 0.0159 | Loss 0.7618 | Accuracy 0.7800 | ETputs(KTEPS) 5579.49\n",
      "Epoch 00017 | Time(s) 0.0162 | Loss 0.7635 | Accuracy 0.7800 | ETputs(KTEPS) 5486.42\n",
      "Epoch 00018 | Time(s) 0.0162 | Loss 0.7648 | Accuracy 0.7720 | ETputs(KTEPS) 5469.85\n",
      "Epoch 00019 | Time(s) 0.0162 | Loss 0.7659 | Accuracy 0.7700 | ETputs(KTEPS) 5488.45\n",
      "Epoch 00020 | Time(s) 0.0162 | Loss 0.7666 | Accuracy 0.7680 | ETputs(KTEPS) 5476.07\n",
      "Epoch 00021 | Time(s) 0.0162 | Loss 0.7671 | Accuracy 0.7660 | ETputs(KTEPS) 5480.44\n",
      "Epoch 00022 | Time(s) 0.0221 | Loss 0.7674 | Accuracy 0.7680 | ETputs(KTEPS) 4007.36\n",
      "Epoch 00023 | Time(s) 0.0221 | Loss 0.7674 | Accuracy 0.7680 | ETputs(KTEPS) 4017.56\n",
      "Epoch 00024 | Time(s) 0.0217 | Loss 0.7674 | Accuracy 0.7660 | ETputs(KTEPS) 4085.85\n",
      "Epoch 00025 | Time(s) 0.0217 | Loss 0.7672 | Accuracy 0.7680 | ETputs(KTEPS) 4092.13\n",
      "Epoch 00026 | Time(s) 0.0218 | Loss 0.7669 | Accuracy 0.7660 | ETputs(KTEPS) 4074.44\n",
      "Epoch 00027 | Time(s) 0.0215 | Loss 0.7667 | Accuracy 0.7660 | ETputs(KTEPS) 4118.45\n",
      "Epoch 00028 | Time(s) 0.0215 | Loss 0.7664 | Accuracy 0.7700 | ETputs(KTEPS) 4130.21\n",
      "Epoch 00029 | Time(s) 0.0214 | Loss 0.7660 | Accuracy 0.7680 | ETputs(KTEPS) 4137.35\n",
      "Epoch 00030 | Time(s) 0.0212 | Loss 0.7657 | Accuracy 0.7660 | ETputs(KTEPS) 4180.66\n",
      "Epoch 00031 | Time(s) 0.0210 | Loss 0.7653 | Accuracy 0.7680 | ETputs(KTEPS) 4223.63\n",
      "Epoch 00032 | Time(s) 0.0210 | Loss 0.7649 | Accuracy 0.7680 | ETputs(KTEPS) 4223.94\n",
      "Epoch 00033 | Time(s) 0.0208 | Loss 0.7645 | Accuracy 0.7680 | ETputs(KTEPS) 4255.16\n",
      "Epoch 00034 | Time(s) 0.0210 | Loss 0.7641 | Accuracy 0.7640 | ETputs(KTEPS) 4222.96\n",
      "Epoch 00035 | Time(s) 0.0208 | Loss 0.7637 | Accuracy 0.7620 | ETputs(KTEPS) 4260.13\n",
      "Epoch 00036 | Time(s) 0.0207 | Loss 0.7634 | Accuracy 0.7560 | ETputs(KTEPS) 4286.54\n",
      "Epoch 00037 | Time(s) 0.0209 | Loss 0.7631 | Accuracy 0.7560 | ETputs(KTEPS) 4249.97\n",
      "Epoch 00038 | Time(s) 0.0207 | Loss 0.7629 | Accuracy 0.7540 | ETputs(KTEPS) 4285.01\n",
      "Epoch 00039 | Time(s) 0.0206 | Loss 0.7627 | Accuracy 0.7520 | ETputs(KTEPS) 4311.64\n",
      "Epoch 00040 | Time(s) 0.0204 | Loss 0.7625 | Accuracy 0.7520 | ETputs(KTEPS) 4342.82\n",
      "Epoch 00041 | Time(s) 0.0202 | Loss 0.7623 | Accuracy 0.7520 | ETputs(KTEPS) 4378.34\n",
      "Epoch 00042 | Time(s) 0.0201 | Loss 0.7621 | Accuracy 0.7580 | ETputs(KTEPS) 4404.65\n",
      "Epoch 00043 | Time(s) 0.0200 | Loss 0.7619 | Accuracy 0.7560 | ETputs(KTEPS) 4441.36\n",
      "Epoch 00044 | Time(s) 0.0198 | Loss 0.7617 | Accuracy 0.7560 | ETputs(KTEPS) 4477.32\n",
      "Epoch 00045 | Time(s) 0.0196 | Loss 0.7614 | Accuracy 0.7580 | ETputs(KTEPS) 4518.17\n",
      "Epoch 00046 | Time(s) 0.0194 | Loss 0.7612 | Accuracy 0.7560 | ETputs(KTEPS) 4558.63\n",
      "Epoch 00047 | Time(s) 0.0194 | Loss 0.7610 | Accuracy 0.7560 | ETputs(KTEPS) 4580.05\n",
      "Epoch 00048 | Time(s) 0.0193 | Loss 0.7608 | Accuracy 0.7560 | ETputs(KTEPS) 4603.90\n",
      "Epoch 00049 | Time(s) 0.0192 | Loss 0.7607 | Accuracy 0.7560 | ETputs(KTEPS) 4620.80\n",
      "Epoch 00050 | Time(s) 0.0191 | Loss 0.7606 | Accuracy 0.7580 | ETputs(KTEPS) 4630.23\n",
      "Epoch 00051 | Time(s) 0.0190 | Loss 0.7605 | Accuracy 0.7560 | ETputs(KTEPS) 4668.66\n",
      "Epoch 00052 | Time(s) 0.0189 | Loss 0.7605 | Accuracy 0.7580 | ETputs(KTEPS) 4693.49\n",
      "Epoch 00053 | Time(s) 0.0188 | Loss 0.7605 | Accuracy 0.7580 | ETputs(KTEPS) 4702.99\n",
      "Epoch 00054 | Time(s) 0.0188 | Loss 0.7604 | Accuracy 0.7600 | ETputs(KTEPS) 4711.37\n",
      "Epoch 00055 | Time(s) 0.0187 | Loss 0.7604 | Accuracy 0.7600 | ETputs(KTEPS) 4741.75\n",
      "Epoch 00056 | Time(s) 0.0187 | Loss 0.7603 | Accuracy 0.7600 | ETputs(KTEPS) 4749.50\n",
      "Epoch 00057 | Time(s) 0.0186 | Loss 0.7603 | Accuracy 0.7580 | ETputs(KTEPS) 4760.04\n",
      "Epoch 00058 | Time(s) 0.0186 | Loss 0.7602 | Accuracy 0.7640 | ETputs(KTEPS) 4770.11\n",
      "Epoch 00059 | Time(s) 0.0187 | Loss 0.7601 | Accuracy 0.7640 | ETputs(KTEPS) 4750.66\n",
      "Epoch 00060 | Time(s) 0.0187 | Loss 0.7600 | Accuracy 0.7640 | ETputs(KTEPS) 4749.43\n",
      "Epoch 00061 | Time(s) 0.0187 | Loss 0.7599 | Accuracy 0.7620 | ETputs(KTEPS) 4751.87\n",
      "Epoch 00062 | Time(s) 0.0186 | Loss 0.7599 | Accuracy 0.7620 | ETputs(KTEPS) 4772.73\n",
      "Epoch 00063 | Time(s) 0.0185 | Loss 0.7598 | Accuracy 0.7600 | ETputs(KTEPS) 4791.19\n",
      "Epoch 00064 | Time(s) 0.0184 | Loss 0.7598 | Accuracy 0.7600 | ETputs(KTEPS) 4807.29\n",
      "Epoch 00065 | Time(s) 0.0184 | Loss 0.7598 | Accuracy 0.7560 | ETputs(KTEPS) 4813.80\n",
      "Epoch 00066 | Time(s) 0.0184 | Loss 0.7597 | Accuracy 0.7560 | ETputs(KTEPS) 4815.75\n",
      "Epoch 00067 | Time(s) 0.0183 | Loss 0.7597 | Accuracy 0.7580 | ETputs(KTEPS) 4837.79\n",
      "Epoch 00068 | Time(s) 0.0183 | Loss 0.7597 | Accuracy 0.7580 | ETputs(KTEPS) 4843.83\n",
      "Epoch 00069 | Time(s) 0.0182 | Loss 0.7596 | Accuracy 0.7580 | ETputs(KTEPS) 4859.74\n",
      "Epoch 00070 | Time(s) 0.0182 | Loss 0.7596 | Accuracy 0.7580 | ETputs(KTEPS) 4880.54\n",
      "Epoch 00071 | Time(s) 0.0181 | Loss 0.7595 | Accuracy 0.7560 | ETputs(KTEPS) 4884.59\n",
      "Epoch 00072 | Time(s) 0.0181 | Loss 0.7595 | Accuracy 0.7560 | ETputs(KTEPS) 4896.88\n",
      "Epoch 00073 | Time(s) 0.0180 | Loss 0.7594 | Accuracy 0.7560 | ETputs(KTEPS) 4915.97\n",
      "Epoch 00074 | Time(s) 0.0179 | Loss 0.7593 | Accuracy 0.7580 | ETputs(KTEPS) 4939.05\n",
      "Epoch 00075 | Time(s) 0.0179 | Loss 0.7593 | Accuracy 0.7580 | ETputs(KTEPS) 4961.73\n",
      "Epoch 00076 | Time(s) 0.0178 | Loss 0.7592 | Accuracy 0.7580 | ETputs(KTEPS) 4979.41\n",
      "Epoch 00077 | Time(s) 0.0177 | Loss 0.7592 | Accuracy 0.7560 | ETputs(KTEPS) 5002.51\n",
      "Epoch 00078 | Time(s) 0.0177 | Loss 0.7592 | Accuracy 0.7560 | ETputs(KTEPS) 5020.22\n",
      "Epoch 00079 | Time(s) 0.0176 | Loss 0.7592 | Accuracy 0.7560 | ETputs(KTEPS) 5035.98\n",
      "Epoch 00080 | Time(s) 0.0176 | Loss 0.7592 | Accuracy 0.7540 | ETputs(KTEPS) 5041.69\n",
      "Epoch 00081 | Time(s) 0.0175 | Loss 0.7592 | Accuracy 0.7540 | ETputs(KTEPS) 5069.42\n",
      "Epoch 00082 | Time(s) 0.0175 | Loss 0.7592 | Accuracy 0.7540 | ETputs(KTEPS) 5071.30\n",
      "Epoch 00083 | Time(s) 0.0174 | Loss 0.7592 | Accuracy 0.7560 | ETputs(KTEPS) 5087.52\n",
      "Epoch 00084 | Time(s) 0.0174 | Loss 0.7592 | Accuracy 0.7560 | ETputs(KTEPS) 5107.22\n",
      "Epoch 00085 | Time(s) 0.0174 | Loss 0.7592 | Accuracy 0.7560 | ETputs(KTEPS) 5108.69\n",
      "Epoch 00086 | Time(s) 0.0173 | Loss 0.7593 | Accuracy 0.7560 | ETputs(KTEPS) 5119.45\n",
      "Epoch 00087 | Time(s) 0.0174 | Loss 0.7593 | Accuracy 0.7560 | ETputs(KTEPS) 5105.83\n",
      "Epoch 00088 | Time(s) 0.0174 | Loss 0.7593 | Accuracy 0.7560 | ETputs(KTEPS) 5090.26\n",
      "Epoch 00089 | Time(s) 0.0175 | Loss 0.7593 | Accuracy 0.7540 | ETputs(KTEPS) 5063.39\n",
      "Epoch 00090 | Time(s) 0.0175 | Loss 0.7593 | Accuracy 0.7560 | ETputs(KTEPS) 5065.24\n",
      "Epoch 00091 | Time(s) 0.0175 | Loss 0.7593 | Accuracy 0.7560 | ETputs(KTEPS) 5068.85\n",
      "Epoch 00092 | Time(s) 0.0175 | Loss 0.7593 | Accuracy 0.7560 | ETputs(KTEPS) 5065.92\n",
      "Epoch 00093 | Time(s) 0.0175 | Loss 0.7593 | Accuracy 0.7540 | ETputs(KTEPS) 5074.05\n",
      "Epoch 00094 | Time(s) 0.0175 | Loss 0.7593 | Accuracy 0.7540 | ETputs(KTEPS) 5072.56\n",
      "Epoch 00095 | Time(s) 0.0174 | Loss 0.7593 | Accuracy 0.7540 | ETputs(KTEPS) 5083.57\n",
      "Epoch 00096 | Time(s) 0.0174 | Loss 0.7593 | Accuracy 0.7540 | ETputs(KTEPS) 5091.26\n",
      "Epoch 00097 | Time(s) 0.0174 | Loss 0.7593 | Accuracy 0.7540 | ETputs(KTEPS) 5080.46\n",
      "Epoch 00098 | Time(s) 0.0175 | Loss 0.7593 | Accuracy 0.7540 | ETputs(KTEPS) 5054.92\n",
      "Epoch 00099 | Time(s) 0.0175 | Loss 0.7593 | Accuracy 0.7540 | ETputs(KTEPS) 5058.71\n"
     ]
    },
    {
     "data": {
      "text/plain": [
       "0.761"
      ]
     },
     "execution_count": 7,
     "metadata": {},
     "output_type": "execute_result"
    }
   ],
   "source": [
    "train(model, g, features, labels, train_mask, val_mask)\n",
    "test(model, g, features, labels, test_mask)"
   ]
  }
 ],
 "metadata": {
  "kernelspec": {
   "display_name": "Python 3.9.6 ('venv': venv)",
   "language": "python",
   "name": "python3"
  },
  "language_info": {
   "codemirror_mode": {
    "name": "ipython",
    "version": 3
   },
   "file_extension": ".py",
   "mimetype": "text/x-python",
   "name": "python",
   "nbconvert_exporter": "python",
   "pygments_lexer": "ipython3",
   "version": "3.9.6"
  },
  "orig_nbformat": 4,
  "vscode": {
   "interpreter": {
    "hash": "53236ea3850ed19be974e6741f9c7a7506ed085a4abb6419de9917a82e4ffe4f"
   }
  }
 },
 "nbformat": 4,
 "nbformat_minor": 2
}
