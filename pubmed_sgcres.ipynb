{
 "cells": [
  {
   "cell_type": "code",
   "execution_count": 7,
   "metadata": {},
   "outputs": [],
   "source": [
    "from models import SGCRes\n",
    "from dgl.data import CoraGraphDataset, CiteseerGraphDataset, PubmedGraphDataset\n",
    "import torch.nn as nn\n",
    "import torch\n",
    "import torch.nn.functional as F\n",
    "import dgl\n",
    "from time import perf_counter"
   ]
  },
  {
   "cell_type": "code",
   "execution_count": 8,
   "metadata": {},
   "outputs": [],
   "source": [
    "device = 'cpu'\n",
    "activation = nn.ReLU()\n",
    "epochs = 50\n",
    "batch_size = 10000\n",
    "lr = 0.02\n",
    "loss_fn = nn.CrossEntropyLoss()\n",
    "weight_decay = 5e-4"
   ]
  },
  {
   "cell_type": "code",
   "execution_count": 9,
   "metadata": {},
   "outputs": [
    {
     "name": "stdout",
     "output_type": "stream",
     "text": [
      "  NumNodes: 19717\n",
      "  NumEdges: 88651\n",
      "  NumFeats: 500\n",
      "  NumClasses: 3\n",
      "  NumTrainingSamples: 60\n",
      "  NumValidationSamples: 500\n",
      "  NumTestSamples: 1000\n",
      "Done loading data from cached files.\n"
     ]
    },
    {
     "name": "stderr",
     "output_type": "stream",
     "text": [
      "d:\\Files\\Coding\\ml\\EfficientGNN\\venv\\lib\\site-packages\\dgl\\data\\utils.py:288: UserWarning: Property dataset.num_labels will be deprecated, please use dataset.num_classes instead.\n",
      "  warnings.warn('Property {} will be deprecated, please use {} instead.'.format(old, new))\n"
     ]
    }
   ],
   "source": [
    "data = PubmedGraphDataset()\n",
    "g = data[0]\n",
    "g = g.to(device)\n",
    "features = g.ndata['feat']\n",
    "labels = g.ndata['label']\n",
    "train_mask = g.ndata['train_mask']\n",
    "val_mask = g.ndata['val_mask']\n",
    "test_mask = g.ndata['test_mask']\n",
    "in_feats = features.shape[-1]\n",
    "n_classes = data.num_labels\n",
    "n_edges = g.number_of_edges()\n",
    "g = dgl.remove_self_loop(g)\n",
    "g = dgl.add_self_loop(g)"
   ]
  },
  {
   "cell_type": "code",
   "execution_count": 10,
   "metadata": {},
   "outputs": [],
   "source": [
    "model = SGCRes(in_feats, n_classes, 2, 2)\n",
    "optimizer = torch.optim.Adam(model.parameters(), lr=lr, weight_decay=weight_decay)"
   ]
  },
  {
   "cell_type": "code",
   "execution_count": 11,
   "metadata": {},
   "outputs": [],
   "source": [
    "def train(model, g, features, labels, train_mask, val_mask, test_mask):\n",
    "    t = perf_counter()\n",
    "    for epoch in range(epochs):\n",
    "        model.train()\n",
    "        logits = model(g, features)\n",
    "        loss = loss_fn(logits[train_mask], labels[train_mask])\n",
    "        optimizer.zero_grad()\n",
    "        loss.backward()\n",
    "        optimizer.step()\n",
    "\n",
    "        model.eval()\n",
    "        logits = model(g, features)\n",
    "        train_acc = torch.sum(logits[train_mask].argmax(1) == labels[train_mask]).item() / train_mask.sum().item()\n",
    "        val_acc = torch.sum(logits[val_mask].argmax(1) == labels[val_mask]).item() / val_mask.sum().item()\n",
    "        test_acc = torch.sum(logits[test_mask].argmax(1) == labels[test_mask]).item() / test_mask.sum().item()\n",
    "        print(f'Epoch {epoch + 1:02d}, Loss: {loss:.4f}, Train: {train_acc:.4f}, Val: {val_acc:.4f}, Test: {test_acc:.4f}')\n",
    "\n",
    "    training_time = perf_counter()-t\n",
    "    print(f'Training time: {training_time:.4f}s')"
   ]
  },
  {
   "cell_type": "code",
   "execution_count": 12,
   "metadata": {},
   "outputs": [
    {
     "name": "stdout",
     "output_type": "stream",
     "text": [
      "Epoch 01, Loss: 1.3579, Train: 0.5333, Val: 0.4620, Test: 0.4590\n",
      "Epoch 02, Loss: 1.1541, Train: 0.5833, Val: 0.5300, Test: 0.5200\n",
      "Epoch 03, Loss: 0.9364, Train: 0.7333, Val: 0.6620, Test: 0.6520\n",
      "Epoch 04, Loss: 0.8015, Train: 0.7667, Val: 0.6920, Test: 0.6870\n",
      "Epoch 05, Loss: 0.7459, Train: 0.8167, Val: 0.6900, Test: 0.6880\n",
      "Epoch 06, Loss: 0.6463, Train: 0.8667, Val: 0.6900, Test: 0.6850\n",
      "Epoch 07, Loss: 0.5227, Train: 0.8833, Val: 0.7020, Test: 0.6940\n",
      "Epoch 08, Loss: 0.4453, Train: 0.8500, Val: 0.6720, Test: 0.6680\n",
      "Epoch 09, Loss: 0.4412, Train: 0.8833, Val: 0.6680, Test: 0.6670\n",
      "Epoch 10, Loss: 0.4257, Train: 0.9000, Val: 0.6860, Test: 0.6750\n",
      "Epoch 11, Loss: 0.3807, Train: 0.9000, Val: 0.6960, Test: 0.6930\n",
      "Epoch 12, Loss: 0.3432, Train: 0.9167, Val: 0.7100, Test: 0.7050\n",
      "Epoch 13, Loss: 0.3174, Train: 0.9167, Val: 0.7200, Test: 0.7230\n",
      "Epoch 14, Loss: 0.2983, Train: 0.9500, Val: 0.7440, Test: 0.7330\n",
      "Epoch 15, Loss: 0.2835, Train: 0.9500, Val: 0.7540, Test: 0.7380\n",
      "Epoch 16, Loss: 0.2712, Train: 0.9500, Val: 0.7520, Test: 0.7410\n",
      "Epoch 17, Loss: 0.2604, Train: 0.9500, Val: 0.7500, Test: 0.7480\n",
      "Epoch 18, Loss: 0.2503, Train: 0.9500, Val: 0.7500, Test: 0.7490\n",
      "Epoch 19, Loss: 0.2405, Train: 0.9667, Val: 0.7540, Test: 0.7480\n",
      "Epoch 20, Loss: 0.2307, Train: 0.9667, Val: 0.7580, Test: 0.7490\n",
      "Epoch 21, Loss: 0.2208, Train: 0.9833, Val: 0.7580, Test: 0.7500\n",
      "Epoch 22, Loss: 0.2110, Train: 0.9833, Val: 0.7680, Test: 0.7520\n",
      "Epoch 23, Loss: 0.2012, Train: 0.9833, Val: 0.7720, Test: 0.7540\n",
      "Epoch 24, Loss: 0.1918, Train: 1.0000, Val: 0.7760, Test: 0.7550\n",
      "Epoch 25, Loss: 0.1829, Train: 1.0000, Val: 0.7800, Test: 0.7510\n",
      "Epoch 26, Loss: 0.1747, Train: 1.0000, Val: 0.7800, Test: 0.7490\n",
      "Epoch 27, Loss: 0.1674, Train: 1.0000, Val: 0.7820, Test: 0.7520\n",
      "Epoch 28, Loss: 0.1607, Train: 1.0000, Val: 0.7800, Test: 0.7520\n",
      "Epoch 29, Loss: 0.1547, Train: 1.0000, Val: 0.7840, Test: 0.7540\n",
      "Epoch 30, Loss: 0.1493, Train: 1.0000, Val: 0.7820, Test: 0.7540\n",
      "Epoch 31, Loss: 0.1444, Train: 1.0000, Val: 0.7740, Test: 0.7550\n",
      "Epoch 32, Loss: 0.1398, Train: 1.0000, Val: 0.7740, Test: 0.7550\n",
      "Epoch 33, Loss: 0.1355, Train: 1.0000, Val: 0.7780, Test: 0.7570\n",
      "Epoch 34, Loss: 0.1314, Train: 1.0000, Val: 0.7760, Test: 0.7560\n",
      "Epoch 35, Loss: 0.1275, Train: 1.0000, Val: 0.7760, Test: 0.7560\n",
      "Epoch 36, Loss: 0.1238, Train: 1.0000, Val: 0.7760, Test: 0.7600\n",
      "Epoch 37, Loss: 0.1202, Train: 1.0000, Val: 0.7780, Test: 0.7630\n",
      "Epoch 38, Loss: 0.1167, Train: 1.0000, Val: 0.7820, Test: 0.7650\n",
      "Epoch 39, Loss: 0.1134, Train: 1.0000, Val: 0.7820, Test: 0.7660\n",
      "Epoch 40, Loss: 0.1102, Train: 1.0000, Val: 0.7800, Test: 0.7660\n",
      "Epoch 41, Loss: 0.1072, Train: 1.0000, Val: 0.7820, Test: 0.7670\n",
      "Epoch 42, Loss: 0.1043, Train: 1.0000, Val: 0.7820, Test: 0.7680\n",
      "Epoch 43, Loss: 0.1015, Train: 1.0000, Val: 0.7820, Test: 0.7660\n",
      "Epoch 44, Loss: 0.0989, Train: 1.0000, Val: 0.7800, Test: 0.7670\n",
      "Epoch 45, Loss: 0.0964, Train: 1.0000, Val: 0.7820, Test: 0.7680\n",
      "Epoch 46, Loss: 0.0941, Train: 1.0000, Val: 0.7840, Test: 0.7680\n",
      "Epoch 47, Loss: 0.0919, Train: 1.0000, Val: 0.7840, Test: 0.7700\n",
      "Epoch 48, Loss: 0.0897, Train: 1.0000, Val: 0.7840, Test: 0.7700\n",
      "Epoch 49, Loss: 0.0877, Train: 1.0000, Val: 0.7860, Test: 0.7720\n",
      "Epoch 50, Loss: 0.0858, Train: 1.0000, Val: 0.7860, Test: 0.7720\n",
      "Training time: 704.8629s\n"
     ]
    }
   ],
   "source": [
    "train(model, g, features, labels, train_mask, val_mask, test_mask)"
   ]
  }
 ],
 "metadata": {
  "kernelspec": {
   "display_name": "Python 3.9.6 ('venv': venv)",
   "language": "python",
   "name": "python3"
  },
  "language_info": {
   "codemirror_mode": {
    "name": "ipython",
    "version": 3
   },
   "file_extension": ".py",
   "mimetype": "text/x-python",
   "name": "python",
   "nbconvert_exporter": "python",
   "pygments_lexer": "ipython3",
   "version": "3.9.6"
  },
  "orig_nbformat": 4,
  "vscode": {
   "interpreter": {
    "hash": "53236ea3850ed19be974e6741f9c7a7506ed085a4abb6419de9917a82e4ffe4f"
   }
  }
 },
 "nbformat": 4,
 "nbformat_minor": 2
}
