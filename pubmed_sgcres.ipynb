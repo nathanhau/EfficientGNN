{
 "cells": [
  {
   "cell_type": "code",
   "execution_count": 1,
   "metadata": {},
   "outputs": [
    {
     "name": "stderr",
     "output_type": "stream",
     "text": [
      "d:\\Files\\Coding\\ml\\EfficientGNN\\venv\\lib\\site-packages\\tqdm\\auto.py:22: TqdmWarning: IProgress not found. Please update jupyter and ipywidgets. See https://ipywidgets.readthedocs.io/en/stable/user_install.html\n",
      "  from .autonotebook import tqdm as notebook_tqdm\n"
     ]
    }
   ],
   "source": [
    "from models import SGCRes\n",
    "from dgl.data import CoraGraphDataset, CiteseerGraphDataset, PubmedGraphDataset\n",
    "import torch.nn as nn\n",
    "import torch\n",
    "import torch.nn.functional as F\n",
    "import dgl"
   ]
  },
  {
   "cell_type": "code",
   "execution_count": 2,
   "metadata": {},
   "outputs": [],
   "source": [
    "device = 'cpu'\n",
    "activation = nn.ReLU()\n",
    "epochs = 100\n",
    "batch_size = 10000\n",
    "lr = 0.02\n",
    "loss_fn = nn.CrossEntropyLoss()\n",
    "weight_decay = 5e-4"
   ]
  },
  {
   "cell_type": "code",
   "execution_count": 3,
   "metadata": {},
   "outputs": [
    {
     "name": "stdout",
     "output_type": "stream",
     "text": [
      "  NumNodes: 19717\n",
      "  NumEdges: 88651\n",
      "  NumFeats: 500\n",
      "  NumClasses: 3\n",
      "  NumTrainingSamples: 60\n",
      "  NumValidationSamples: 500\n",
      "  NumTestSamples: 1000\n",
      "Done loading data from cached files.\n"
     ]
    },
    {
     "name": "stderr",
     "output_type": "stream",
     "text": [
      "d:\\Files\\Coding\\ml\\EfficientGNN\\venv\\lib\\site-packages\\dgl\\data\\utils.py:288: UserWarning: Property dataset.num_labels will be deprecated, please use dataset.num_classes instead.\n",
      "  warnings.warn('Property {} will be deprecated, please use {} instead.'.format(old, new))\n"
     ]
    }
   ],
   "source": [
    "data = PubmedGraphDataset()\n",
    "g = data[0]\n",
    "g = g.to(device)\n",
    "features = g.ndata['feat']\n",
    "labels = g.ndata['label']\n",
    "train_mask = g.ndata['train_mask']\n",
    "val_mask = g.ndata['val_mask']\n",
    "test_mask = g.ndata['test_mask']\n",
    "in_feats = features.shape[-1]\n",
    "n_classes = data.num_labels\n",
    "n_edges = g.number_of_edges()\n",
    "g = dgl.remove_self_loop(g)\n",
    "g = dgl.add_self_loop(g)"
   ]
  },
  {
   "cell_type": "code",
   "execution_count": 4,
   "metadata": {},
   "outputs": [],
   "source": [
    "model = SGCRes(in_feats, n_classes, 2, 2)\n",
    "optimizer = torch.optim.Adam(model.parameters(), lr=lr, weight_decay=weight_decay)"
   ]
  },
  {
   "cell_type": "code",
   "execution_count": 5,
   "metadata": {},
   "outputs": [],
   "source": [
    "def train(model, g, features, labels, train_mask, val_mask, test_mask):\n",
    "    for epoch in range(epochs):\n",
    "        model.train()\n",
    "        logits = model(g, features)\n",
    "        loss = loss_fn(logits[train_mask], labels[train_mask])\n",
    "        optimizer.zero_grad()\n",
    "        loss.backward()\n",
    "        optimizer.step()\n",
    "\n",
    "        model.eval()\n",
    "        logits = model(g, features)\n",
    "        train_acc = torch.sum(logits[train_mask].argmax(1) == labels[train_mask]).item() / train_mask.sum().item()\n",
    "        val_acc = torch.sum(logits[val_mask].argmax(1) == labels[val_mask]).item() / val_mask.sum().item()\n",
    "        test_acc = torch.sum(logits[test_mask].argmax(1) == labels[test_mask]).item() / test_mask.sum().item()\n",
    "        print(f'Epoch {epoch + 1:02d}, Loss: {loss:.4f}, Train: {train_acc:.4f}, Val: {val_acc:.4f}, Test: {test_acc:.4f}')"
   ]
  },
  {
   "cell_type": "code",
   "execution_count": 6,
   "metadata": {},
   "outputs": [
    {
     "name": "stdout",
     "output_type": "stream",
     "text": [
      "Epoch 01, Loss: 1.2811, Train: 0.4667, Val: 0.5400, Test: 0.5510\n",
      "Epoch 02, Loss: 1.2265, Train: 0.6500, Val: 0.6300, Test: 0.6240\n",
      "Epoch 03, Loss: 0.9249, Train: 0.8333, Val: 0.7060, Test: 0.6780\n",
      "Epoch 04, Loss: 0.6692, Train: 0.8500, Val: 0.6640, Test: 0.6550\n",
      "Epoch 05, Loss: 0.5981, Train: 0.8667, Val: 0.6500, Test: 0.6440\n",
      "Epoch 06, Loss: 0.5807, Train: 0.8667, Val: 0.6360, Test: 0.6430\n",
      "Epoch 07, Loss: 0.4932, Train: 0.8833, Val: 0.6540, Test: 0.6420\n",
      "Epoch 08, Loss: 0.4289, Train: 0.9000, Val: 0.6820, Test: 0.6720\n",
      "Epoch 09, Loss: 0.3905, Train: 0.9000, Val: 0.6920, Test: 0.6960\n",
      "Epoch 10, Loss: 0.3687, Train: 0.9167, Val: 0.7200, Test: 0.7150\n",
      "Epoch 11, Loss: 0.3410, Train: 0.9333, Val: 0.7520, Test: 0.7230\n",
      "Epoch 12, Loss: 0.3133, Train: 0.9333, Val: 0.7500, Test: 0.7460\n",
      "Epoch 13, Loss: 0.2980, Train: 0.9333, Val: 0.7540, Test: 0.7480\n",
      "Epoch 14, Loss: 0.2862, Train: 0.9333, Val: 0.7580, Test: 0.7520\n",
      "Epoch 15, Loss: 0.2744, Train: 0.9333, Val: 0.7620, Test: 0.7530\n",
      "Epoch 16, Loss: 0.2618, Train: 0.9500, Val: 0.7660, Test: 0.7500\n",
      "Epoch 17, Loss: 0.2487, Train: 0.9500, Val: 0.7600, Test: 0.7550\n",
      "Epoch 18, Loss: 0.2360, Train: 0.9500, Val: 0.7640, Test: 0.7540\n",
      "Epoch 19, Loss: 0.2243, Train: 0.9667, Val: 0.7640, Test: 0.7580\n",
      "Epoch 20, Loss: 0.2135, Train: 0.9667, Val: 0.7620, Test: 0.7600\n",
      "Epoch 21, Loss: 0.2038, Train: 0.9667, Val: 0.7680, Test: 0.7560\n",
      "Epoch 22, Loss: 0.1949, Train: 0.9833, Val: 0.7680, Test: 0.7520\n",
      "Epoch 23, Loss: 0.1867, Train: 0.9833, Val: 0.7640, Test: 0.7550\n",
      "Epoch 24, Loss: 0.1790, Train: 0.9833, Val: 0.7580, Test: 0.7550\n",
      "Epoch 25, Loss: 0.1718, Train: 1.0000, Val: 0.7600, Test: 0.7560\n",
      "Epoch 26, Loss: 0.1650, Train: 1.0000, Val: 0.7600, Test: 0.7540\n",
      "Epoch 27, Loss: 0.1586, Train: 1.0000, Val: 0.7560, Test: 0.7530\n",
      "Epoch 28, Loss: 0.1525, Train: 1.0000, Val: 0.7580, Test: 0.7540\n",
      "Epoch 29, Loss: 0.1467, Train: 1.0000, Val: 0.7600, Test: 0.7520\n",
      "Epoch 30, Loss: 0.1412, Train: 1.0000, Val: 0.7640, Test: 0.7510\n",
      "Epoch 31, Loss: 0.1360, Train: 1.0000, Val: 0.7700, Test: 0.7510\n",
      "Epoch 32, Loss: 0.1310, Train: 1.0000, Val: 0.7760, Test: 0.7520\n",
      "Epoch 33, Loss: 0.1264, Train: 1.0000, Val: 0.7820, Test: 0.7520\n",
      "Epoch 34, Loss: 0.1221, Train: 1.0000, Val: 0.7880, Test: 0.7530\n",
      "Epoch 35, Loss: 0.1180, Train: 1.0000, Val: 0.7900, Test: 0.7520\n",
      "Epoch 36, Loss: 0.1142, Train: 1.0000, Val: 0.7900, Test: 0.7560\n",
      "Epoch 37, Loss: 0.1106, Train: 1.0000, Val: 0.7900, Test: 0.7560\n",
      "Epoch 38, Loss: 0.1073, Train: 1.0000, Val: 0.7920, Test: 0.7560\n",
      "Epoch 39, Loss: 0.1042, Train: 1.0000, Val: 0.7900, Test: 0.7560\n",
      "Epoch 40, Loss: 0.1013, Train: 1.0000, Val: 0.7880, Test: 0.7590\n",
      "Epoch 41, Loss: 0.0985, Train: 1.0000, Val: 0.7840, Test: 0.7580\n",
      "Epoch 42, Loss: 0.0959, Train: 1.0000, Val: 0.7840, Test: 0.7580\n",
      "Epoch 43, Loss: 0.0934, Train: 1.0000, Val: 0.7840, Test: 0.7590\n",
      "Epoch 44, Loss: 0.0911, Train: 1.0000, Val: 0.7840, Test: 0.7590\n",
      "Epoch 45, Loss: 0.0889, Train: 1.0000, Val: 0.7840, Test: 0.7600\n",
      "Epoch 46, Loss: 0.0868, Train: 1.0000, Val: 0.7820, Test: 0.7610\n",
      "Epoch 47, Loss: 0.0847, Train: 1.0000, Val: 0.7820, Test: 0.7630\n",
      "Epoch 48, Loss: 0.0828, Train: 1.0000, Val: 0.7820, Test: 0.7650\n",
      "Epoch 49, Loss: 0.0809, Train: 1.0000, Val: 0.7820, Test: 0.7660\n",
      "Epoch 50, Loss: 0.0791, Train: 1.0000, Val: 0.7860, Test: 0.7670\n",
      "Epoch 51, Loss: 0.0774, Train: 1.0000, Val: 0.7860, Test: 0.7680\n",
      "Epoch 52, Loss: 0.0757, Train: 1.0000, Val: 0.7860, Test: 0.7700\n",
      "Epoch 53, Loss: 0.0741, Train: 1.0000, Val: 0.7860, Test: 0.7700\n",
      "Epoch 54, Loss: 0.0726, Train: 1.0000, Val: 0.7860, Test: 0.7700\n",
      "Epoch 55, Loss: 0.0711, Train: 1.0000, Val: 0.7900, Test: 0.7720\n",
      "Epoch 56, Loss: 0.0697, Train: 1.0000, Val: 0.7900, Test: 0.7710\n",
      "Epoch 57, Loss: 0.0684, Train: 1.0000, Val: 0.7900, Test: 0.7690\n",
      "Epoch 58, Loss: 0.0671, Train: 1.0000, Val: 0.7900, Test: 0.7680\n",
      "Epoch 59, Loss: 0.0659, Train: 1.0000, Val: 0.7900, Test: 0.7690\n",
      "Epoch 60, Loss: 0.0647, Train: 1.0000, Val: 0.7900, Test: 0.7690\n",
      "Epoch 61, Loss: 0.0636, Train: 1.0000, Val: 0.7900, Test: 0.7700\n",
      "Epoch 62, Loss: 0.0626, Train: 1.0000, Val: 0.7900, Test: 0.7690\n",
      "Epoch 63, Loss: 0.0615, Train: 1.0000, Val: 0.7900, Test: 0.7690\n",
      "Epoch 64, Loss: 0.0606, Train: 1.0000, Val: 0.7880, Test: 0.7670\n",
      "Epoch 65, Loss: 0.0596, Train: 1.0000, Val: 0.7880, Test: 0.7660\n",
      "Epoch 66, Loss: 0.0586, Train: 1.0000, Val: 0.7860, Test: 0.7680\n",
      "Epoch 67, Loss: 0.0577, Train: 1.0000, Val: 0.7860, Test: 0.7670\n",
      "Epoch 68, Loss: 0.0568, Train: 1.0000, Val: 0.7860, Test: 0.7670\n",
      "Epoch 69, Loss: 0.0560, Train: 1.0000, Val: 0.7860, Test: 0.7680\n",
      "Epoch 70, Loss: 0.0551, Train: 1.0000, Val: 0.7880, Test: 0.7680\n",
      "Epoch 71, Loss: 0.0543, Train: 1.0000, Val: 0.7880, Test: 0.7660\n",
      "Epoch 72, Loss: 0.0535, Train: 1.0000, Val: 0.7880, Test: 0.7660\n",
      "Epoch 73, Loss: 0.0528, Train: 1.0000, Val: 0.7880, Test: 0.7670\n",
      "Epoch 74, Loss: 0.0521, Train: 1.0000, Val: 0.7880, Test: 0.7670\n",
      "Epoch 75, Loss: 0.0514, Train: 1.0000, Val: 0.7880, Test: 0.7670\n",
      "Epoch 76, Loss: 0.0507, Train: 1.0000, Val: 0.7880, Test: 0.7670\n",
      "Epoch 77, Loss: 0.0500, Train: 1.0000, Val: 0.7880, Test: 0.7670\n",
      "Epoch 78, Loss: 0.0494, Train: 1.0000, Val: 0.7880, Test: 0.7670\n",
      "Epoch 79, Loss: 0.0488, Train: 1.0000, Val: 0.7900, Test: 0.7670\n",
      "Epoch 80, Loss: 0.0482, Train: 1.0000, Val: 0.7900, Test: 0.7650\n",
      "Epoch 81, Loss: 0.0476, Train: 1.0000, Val: 0.7900, Test: 0.7640\n",
      "Epoch 82, Loss: 0.0470, Train: 1.0000, Val: 0.7900, Test: 0.7630\n",
      "Epoch 83, Loss: 0.0465, Train: 1.0000, Val: 0.7900, Test: 0.7640\n",
      "Epoch 84, Loss: 0.0459, Train: 1.0000, Val: 0.7920, Test: 0.7650\n",
      "Epoch 85, Loss: 0.0454, Train: 1.0000, Val: 0.7880, Test: 0.7650\n",
      "Epoch 86, Loss: 0.0449, Train: 1.0000, Val: 0.7880, Test: 0.7650\n",
      "Epoch 87, Loss: 0.0444, Train: 1.0000, Val: 0.7880, Test: 0.7650\n",
      "Epoch 88, Loss: 0.0439, Train: 1.0000, Val: 0.7880, Test: 0.7650\n",
      "Epoch 89, Loss: 0.0434, Train: 1.0000, Val: 0.7880, Test: 0.7660\n",
      "Epoch 90, Loss: 0.0429, Train: 1.0000, Val: 0.7880, Test: 0.7660\n",
      "Epoch 91, Loss: 0.0425, Train: 1.0000, Val: 0.7880, Test: 0.7670\n",
      "Epoch 92, Loss: 0.0421, Train: 1.0000, Val: 0.7880, Test: 0.7660\n",
      "Epoch 93, Loss: 0.0416, Train: 1.0000, Val: 0.7880, Test: 0.7660\n",
      "Epoch 94, Loss: 0.0412, Train: 1.0000, Val: 0.7880, Test: 0.7660\n",
      "Epoch 95, Loss: 0.0408, Train: 1.0000, Val: 0.7880, Test: 0.7660\n",
      "Epoch 96, Loss: 0.0404, Train: 1.0000, Val: 0.7880, Test: 0.7670\n",
      "Epoch 97, Loss: 0.0400, Train: 1.0000, Val: 0.7880, Test: 0.7670\n",
      "Epoch 98, Loss: 0.0396, Train: 1.0000, Val: 0.7880, Test: 0.7660\n",
      "Epoch 99, Loss: 0.0393, Train: 1.0000, Val: 0.7880, Test: 0.7650\n",
      "Epoch 100, Loss: 0.0389, Train: 1.0000, Val: 0.7880, Test: 0.7640\n"
     ]
    }
   ],
   "source": [
    "train(model, g, features, labels, train_mask, val_mask, test_mask)"
   ]
  }
 ],
 "metadata": {
  "kernelspec": {
   "display_name": "Python 3.9.6 ('venv': venv)",
   "language": "python",
   "name": "python3"
  },
  "language_info": {
   "codemirror_mode": {
    "name": "ipython",
    "version": 3
   },
   "file_extension": ".py",
   "mimetype": "text/x-python",
   "name": "python",
   "nbconvert_exporter": "python",
   "pygments_lexer": "ipython3",
   "version": "3.9.6"
  },
  "orig_nbformat": 4,
  "vscode": {
   "interpreter": {
    "hash": "53236ea3850ed19be974e6741f9c7a7506ed085a4abb6419de9917a82e4ffe4f"
   }
  }
 },
 "nbformat": 4,
 "nbformat_minor": 2
}
