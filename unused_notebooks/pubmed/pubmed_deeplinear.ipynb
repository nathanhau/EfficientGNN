{
 "cells": [
  {
   "cell_type": "code",
   "execution_count": 1,
   "metadata": {},
   "outputs": [
    {
     "name": "stderr",
     "output_type": "stream",
     "text": [
      "d:\\Files\\Coding\\ml\\EfficientGNN\\venv\\lib\\site-packages\\tqdm\\auto.py:22: TqdmWarning: IProgress not found. Please update jupyter and ipywidgets. See https://ipywidgets.readthedocs.io/en/stable/user_install.html\n",
      "  from .autonotebook import tqdm as notebook_tqdm\n"
     ]
    }
   ],
   "source": [
    "from stacked_models import DeepLinear\n",
    "from dgl.data import CoraGraphDataset, CiteseerGraphDataset, PubmedGraphDataset\n",
    "import torch.nn as nn\n",
    "import torch\n",
    "import torch.nn.functional as F\n",
    "import dgl\n",
    "from time import perf_counter"
   ]
  },
  {
   "cell_type": "code",
   "execution_count": 2,
   "metadata": {},
   "outputs": [],
   "source": [
    "device = 'cpu'\n",
    "activation = nn.ReLU()\n",
    "epochs = 50\n",
    "batch_size = 10000\n",
    "lr = 0.02\n",
    "loss_fn = nn.CrossEntropyLoss()\n",
    "weight_decay = 5e-4"
   ]
  },
  {
   "cell_type": "code",
   "execution_count": 3,
   "metadata": {},
   "outputs": [
    {
     "name": "stdout",
     "output_type": "stream",
     "text": [
      "  NumNodes: 19717\n",
      "  NumEdges: 88651\n",
      "  NumFeats: 500\n",
      "  NumClasses: 3\n",
      "  NumTrainingSamples: 60\n",
      "  NumValidationSamples: 500\n",
      "  NumTestSamples: 1000\n",
      "Done loading data from cached files.\n"
     ]
    },
    {
     "name": "stderr",
     "output_type": "stream",
     "text": [
      "d:\\Files\\Coding\\ml\\EfficientGNN\\venv\\lib\\site-packages\\dgl\\data\\utils.py:288: UserWarning: Property dataset.num_labels will be deprecated, please use dataset.num_classes instead.\n",
      "  warnings.warn('Property {} will be deprecated, please use {} instead.'.format(old, new))\n"
     ]
    }
   ],
   "source": [
    "data = PubmedGraphDataset()\n",
    "g = data[0]\n",
    "g = g.to(device)\n",
    "features = g.ndata['feat']\n",
    "labels = g.ndata['label']\n",
    "train_mask = g.ndata['train_mask']\n",
    "val_mask = g.ndata['val_mask']\n",
    "test_mask = g.ndata['test_mask']\n",
    "in_feats = features.shape[-1]\n",
    "n_classes = data.num_labels\n",
    "n_edges = g.number_of_edges()\n",
    "g = dgl.remove_self_loop(g)\n",
    "g = dgl.add_self_loop(g)"
   ]
  },
  {
   "cell_type": "code",
   "execution_count": 4,
   "metadata": {},
   "outputs": [],
   "source": [
    "model = DeepLinear(\"SGC\",{},in_feats, 16, n_classes, 2, 2, activation, dropout=0.2)\n",
    "optimizer = torch.optim.Adam(model.parameters(), lr=lr, weight_decay=weight_decay)"
   ]
  },
  {
   "cell_type": "code",
   "execution_count": 5,
   "metadata": {},
   "outputs": [],
   "source": [
    "def test(model, g, features, labels, mask):\n",
    "    model.eval()\n",
    "    with torch.no_grad():\n",
    "        logits = model(g, features)[mask]  # only compute the evaluation set\n",
    "        labels = labels[mask]\n",
    "        _, indices = torch.max(logits, dim=1)\n",
    "        correct = torch.sum(indices == labels)\n",
    "        return correct.item() * 1.0 / len(labels)"
   ]
  },
  {
   "cell_type": "code",
   "execution_count": 6,
   "metadata": {},
   "outputs": [],
   "source": [
    "def train(model, g, features, labels, train_mask, val_mask, test_mask):\n",
    "    t = perf_counter()\n",
    "    for epoch in range(epochs):\n",
    "        model.train()\n",
    "        logits = model(g, features)\n",
    "        loss = loss_fn(logits[train_mask], labels[train_mask])\n",
    "        optimizer.zero_grad()\n",
    "        loss.backward()\n",
    "        optimizer.step()\n",
    "\n",
    "        model.eval()\n",
    "        logits = model(g, features)\n",
    "        train_acc = torch.sum(logits[train_mask].argmax(1) == labels[train_mask]).item() / train_mask.sum().item()\n",
    "        val_acc = torch.sum(logits[val_mask].argmax(1) == labels[val_mask]).item() / val_mask.sum().item()\n",
    "        test_acc = torch.sum(logits[test_mask].argmax(1) == labels[test_mask]).item() / test_mask.sum().item()\n",
    "        print(f'Epoch {epoch + 1:02d}, Loss: {loss:.4f}, Train: {train_acc:.4f}, Val: {val_acc:.4f}, Test: {test_acc:.4f}')\n",
    "\n",
    "    training_time = perf_counter()-t\n",
    "    print(f'Training time: {training_time:.4f}s')"
   ]
  },
  {
   "cell_type": "code",
   "execution_count": 7,
   "metadata": {},
   "outputs": [
    {
     "name": "stdout",
     "output_type": "stream",
     "text": [
      "Epoch 01, Loss: 1.1829, Train: 0.5667, Val: 0.4920, Test: 0.5060\n",
      "Epoch 02, Loss: 1.5257, Train: 0.6333, Val: 0.5200, Test: 0.5160\n",
      "Epoch 03, Loss: 1.1014, Train: 0.6167, Val: 0.5080, Test: 0.5060\n",
      "Epoch 04, Loss: 0.8675, Train: 0.7833, Val: 0.6600, Test: 0.6550\n",
      "Epoch 05, Loss: 0.7481, Train: 0.8500, Val: 0.6280, Test: 0.6180\n",
      "Epoch 06, Loss: 0.7219, Train: 0.8500, Val: 0.6260, Test: 0.6030\n",
      "Epoch 07, Loss: 0.6611, Train: 0.9000, Val: 0.6480, Test: 0.6200\n",
      "Epoch 08, Loss: 0.5960, Train: 0.9000, Val: 0.6840, Test: 0.6570\n",
      "Epoch 09, Loss: 0.5501, Train: 0.8833, Val: 0.7000, Test: 0.6740\n",
      "Epoch 10, Loss: 0.4971, Train: 0.9000, Val: 0.7140, Test: 0.6870\n",
      "Epoch 11, Loss: 0.4545, Train: 0.9167, Val: 0.7200, Test: 0.7060\n",
      "Epoch 12, Loss: 0.4322, Train: 0.9167, Val: 0.7280, Test: 0.7170\n",
      "Epoch 13, Loss: 0.4235, Train: 0.9167, Val: 0.7260, Test: 0.7160\n",
      "Epoch 14, Loss: 0.4279, Train: 0.9167, Val: 0.7240, Test: 0.7070\n",
      "Epoch 15, Loss: 0.3448, Train: 0.9167, Val: 0.7200, Test: 0.7040\n",
      "Epoch 16, Loss: 0.2872, Train: 0.9167, Val: 0.7160, Test: 0.6970\n",
      "Epoch 17, Loss: 0.2703, Train: 0.9167, Val: 0.7240, Test: 0.6930\n",
      "Epoch 18, Loss: 0.2782, Train: 0.9167, Val: 0.7340, Test: 0.6980\n",
      "Epoch 19, Loss: 0.2419, Train: 0.9167, Val: 0.7360, Test: 0.7080\n",
      "Epoch 20, Loss: 0.2661, Train: 0.9667, Val: 0.7380, Test: 0.7250\n",
      "Epoch 21, Loss: 0.2293, Train: 0.9667, Val: 0.7460, Test: 0.7360\n",
      "Epoch 22, Loss: 0.2194, Train: 0.9667, Val: 0.7560, Test: 0.7390\n",
      "Epoch 23, Loss: 0.1723, Train: 0.9833, Val: 0.7580, Test: 0.7440\n",
      "Epoch 24, Loss: 0.1671, Train: 1.0000, Val: 0.7620, Test: 0.7450\n",
      "Epoch 25, Loss: 0.2355, Train: 1.0000, Val: 0.7600, Test: 0.7480\n",
      "Epoch 26, Loss: 0.1616, Train: 1.0000, Val: 0.7640, Test: 0.7480\n",
      "Epoch 27, Loss: 0.1765, Train: 1.0000, Val: 0.7740, Test: 0.7540\n",
      "Epoch 28, Loss: 0.1093, Train: 1.0000, Val: 0.7780, Test: 0.7530\n",
      "Epoch 29, Loss: 0.1291, Train: 1.0000, Val: 0.7780, Test: 0.7550\n",
      "Epoch 30, Loss: 0.0935, Train: 1.0000, Val: 0.7800, Test: 0.7550\n",
      "Epoch 31, Loss: 0.0878, Train: 1.0000, Val: 0.7840, Test: 0.7580\n",
      "Epoch 32, Loss: 0.0635, Train: 1.0000, Val: 0.7900, Test: 0.7600\n",
      "Epoch 33, Loss: 0.1161, Train: 1.0000, Val: 0.7920, Test: 0.7630\n",
      "Epoch 34, Loss: 0.0720, Train: 1.0000, Val: 0.7880, Test: 0.7680\n",
      "Epoch 35, Loss: 0.0726, Train: 1.0000, Val: 0.7920, Test: 0.7690\n",
      "Epoch 36, Loss: 0.0805, Train: 1.0000, Val: 0.7860, Test: 0.7680\n",
      "Epoch 37, Loss: 0.0774, Train: 1.0000, Val: 0.7900, Test: 0.7680\n",
      "Epoch 38, Loss: 0.0731, Train: 1.0000, Val: 0.7940, Test: 0.7690\n",
      "Epoch 39, Loss: 0.0448, Train: 1.0000, Val: 0.7940, Test: 0.7710\n",
      "Epoch 40, Loss: 0.0625, Train: 1.0000, Val: 0.7900, Test: 0.7680\n",
      "Epoch 41, Loss: 0.0529, Train: 1.0000, Val: 0.7920, Test: 0.7620\n",
      "Epoch 42, Loss: 0.0719, Train: 1.0000, Val: 0.7900, Test: 0.7580\n",
      "Epoch 43, Loss: 0.0460, Train: 1.0000, Val: 0.7940, Test: 0.7580\n",
      "Epoch 44, Loss: 0.0542, Train: 1.0000, Val: 0.7960, Test: 0.7570\n",
      "Epoch 45, Loss: 0.0264, Train: 1.0000, Val: 0.7940, Test: 0.7600\n",
      "Epoch 46, Loss: 0.0664, Train: 1.0000, Val: 0.7900, Test: 0.7590\n",
      "Epoch 47, Loss: 0.0703, Train: 1.0000, Val: 0.7900, Test: 0.7650\n",
      "Epoch 48, Loss: 0.0359, Train: 1.0000, Val: 0.7880, Test: 0.7670\n",
      "Epoch 49, Loss: 0.0415, Train: 1.0000, Val: 0.7840, Test: 0.7620\n",
      "Epoch 50, Loss: 0.0355, Train: 1.0000, Val: 0.7780, Test: 0.7650\n",
      "Training time: 34.4557s\n"
     ]
    },
    {
     "data": {
      "text/plain": [
       "0.765"
      ]
     },
     "execution_count": 7,
     "metadata": {},
     "output_type": "execute_result"
    }
   ],
   "source": [
    "train(model, g, features, labels, train_mask, val_mask, test_mask)\n",
    "test(model, g, features, labels, test_mask)"
   ]
  }
 ],
 "metadata": {
  "kernelspec": {
   "display_name": "Python 3.9.6 ('venv': venv)",
   "language": "python",
   "name": "python3"
  },
  "language_info": {
   "codemirror_mode": {
    "name": "ipython",
    "version": 3
   },
   "file_extension": ".py",
   "mimetype": "text/x-python",
   "name": "python",
   "nbconvert_exporter": "python",
   "pygments_lexer": "ipython3",
   "version": "3.9.12"
  },
  "orig_nbformat": 4,
  "vscode": {
   "interpreter": {
    "hash": "53236ea3850ed19be974e6741f9c7a7506ed085a4abb6419de9917a82e4ffe4f"
   }
  }
 },
 "nbformat": 4,
 "nbformat_minor": 2
}
