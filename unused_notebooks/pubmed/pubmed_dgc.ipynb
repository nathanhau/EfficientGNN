{
 "cells": [
  {
   "cell_type": "code",
   "execution_count": 5,
   "metadata": {},
   "outputs": [],
   "source": [
    "import time\n",
    "import numpy as np\n",
    "import torch\n",
    "import torch.nn as nn\n",
    "import torch.nn.functional as F\n",
    "import dgl\n",
    "from dgl.data import CoraGraphDataset, CiteseerGraphDataset, PubmedGraphDataset\n",
    "from models.DGC import DGC\n",
    "from time import perf_counter"
   ]
  },
  {
   "cell_type": "code",
   "execution_count": 6,
   "metadata": {},
   "outputs": [],
   "source": [
    "lr = 0.2\n",
    "bias = False\n",
    "epochs = 50\n",
    "weight_decay = 5e-4\n",
    "loss_fn = torch.nn.CrossEntropyLoss()"
   ]
  },
  {
   "cell_type": "code",
   "execution_count": 7,
   "metadata": {},
   "outputs": [
    {
     "name": "stdout",
     "output_type": "stream",
     "text": [
      "  NumNodes: 19717\n",
      "  NumEdges: 88651\n",
      "  NumFeats: 500\n",
      "  NumClasses: 3\n",
      "  NumTrainingSamples: 60\n",
      "  NumValidationSamples: 500\n",
      "  NumTestSamples: 1000\n",
      "Done loading data from cached files.\n"
     ]
    },
    {
     "name": "stderr",
     "output_type": "stream",
     "text": [
      "d:\\Files\\Coding\\ml\\EfficientGNN\\venv\\lib\\site-packages\\dgl\\data\\utils.py:288: UserWarning: Property dataset.num_labels will be deprecated, please use dataset.num_classes instead.\n",
      "  warnings.warn('Property {} will be deprecated, please use {} instead.'.format(old, new))\n"
     ]
    }
   ],
   "source": [
    "data = PubmedGraphDataset()\n",
    "g = data[0]\n",
    "features = g.ndata['feat']\n",
    "labels = g.ndata['label']\n",
    "train_mask = g.ndata['train_mask']\n",
    "val_mask = g.ndata['val_mask']\n",
    "test_mask = g.ndata['test_mask']\n",
    "in_feats = features.shape[1]\n",
    "n_classes = data.num_labels\n",
    "n_edges = g.number_of_edges()\n",
    "g = dgl.remove_self_loop(g)\n",
    "g = dgl.add_self_loop(g)"
   ]
  },
  {
   "cell_type": "code",
   "execution_count": 8,
   "metadata": {},
   "outputs": [],
   "source": [
    "model = DGC(in_feats, n_classes, K=2, T=2, bias=bias)\n",
    "optimizer = torch.optim.Adam(model.parameters(), lr=lr, weight_decay=weight_decay)"
   ]
  },
  {
   "cell_type": "code",
   "execution_count": 9,
   "metadata": {},
   "outputs": [],
   "source": [
    "def test(model, g, features, labels, mask):\n",
    "    model.eval()\n",
    "    with torch.no_grad():\n",
    "        logits = model(g, features)[mask]  # only compute the evaluation set\n",
    "        labels = labels[mask]\n",
    "        _, indices = torch.max(logits, dim=1)\n",
    "        correct = torch.sum(indices == labels)\n",
    "        return correct.item() * 1.0 / len(labels)"
   ]
  },
  {
   "cell_type": "code",
   "execution_count": 10,
   "metadata": {},
   "outputs": [],
   "source": [
    "def train(model, g, features, labels, train_mask, val_mask, test_mask):\n",
    "    t = perf_counter()\n",
    "    for epoch in range(epochs):\n",
    "        model.train()\n",
    "        logits = model(g, features)\n",
    "        loss = loss_fn(logits[train_mask], labels[train_mask])\n",
    "        optimizer.zero_grad()\n",
    "        loss.backward()\n",
    "        optimizer.step()\n",
    "\n",
    "        model.eval()\n",
    "        logits = model(g, features)\n",
    "        train_acc = torch.sum(logits[train_mask].argmax(1) == labels[train_mask]).item() / train_mask.sum().item()\n",
    "        val_acc = torch.sum(logits[val_mask].argmax(1) == labels[val_mask]).item() / val_mask.sum().item()\n",
    "        test_acc = torch.sum(logits[test_mask].argmax(1) == labels[test_mask]).item() / test_mask.sum().item()\n",
    "        print(f'Epoch {epoch + 1:02d}, Loss: {loss:.4f}, Train: {train_acc:.4f}, Val: {val_acc:.4f}, Test: {test_acc:.4f}')\n",
    "\n",
    "    training_time = perf_counter()-t\n",
    "    print(f'Training time: {training_time:.4f}s')"
   ]
  },
  {
   "cell_type": "code",
   "execution_count": 11,
   "metadata": {},
   "outputs": [
    {
     "name": "stdout",
     "output_type": "stream",
     "text": [
      "Epoch 01, Loss: 1.0991, Train: 0.9167, Val: 0.7040, Test: 0.7010\n",
      "Epoch 02, Loss: 1.0089, Train: 0.9333, Val: 0.7200, Test: 0.7310\n",
      "Epoch 03, Loss: 0.9311, Train: 0.9500, Val: 0.7400, Test: 0.7430\n",
      "Epoch 04, Loss: 0.8672, Train: 0.9500, Val: 0.7420, Test: 0.7530\n",
      "Epoch 05, Loss: 0.8168, Train: 0.9667, Val: 0.7480, Test: 0.7490\n",
      "Epoch 06, Loss: 0.7786, Train: 0.9667, Val: 0.7480, Test: 0.7420\n",
      "Epoch 07, Loss: 0.7505, Train: 0.9667, Val: 0.7420, Test: 0.7450\n",
      "Epoch 08, Loss: 0.7306, Train: 0.9667, Val: 0.7480, Test: 0.7460\n",
      "Epoch 09, Loss: 0.7174, Train: 0.9667, Val: 0.7520, Test: 0.7460\n",
      "Epoch 10, Loss: 0.7094, Train: 0.9667, Val: 0.7600, Test: 0.7480\n",
      "Epoch 11, Loss: 0.7052, Train: 0.9667, Val: 0.7640, Test: 0.7490\n",
      "Epoch 12, Loss: 0.7038, Train: 0.9500, Val: 0.7720, Test: 0.7530\n",
      "Epoch 13, Loss: 0.7042, Train: 0.9500, Val: 0.7780, Test: 0.7580\n",
      "Epoch 14, Loss: 0.7059, Train: 0.9500, Val: 0.7800, Test: 0.7600\n",
      "Epoch 15, Loss: 0.7081, Train: 0.9500, Val: 0.7780, Test: 0.7620\n",
      "Epoch 16, Loss: 0.7105, Train: 0.9500, Val: 0.7860, Test: 0.7620\n",
      "Epoch 17, Loss: 0.7129, Train: 0.9500, Val: 0.7840, Test: 0.7610\n",
      "Epoch 18, Loss: 0.7149, Train: 0.9500, Val: 0.7780, Test: 0.7620\n",
      "Epoch 19, Loss: 0.7167, Train: 0.9500, Val: 0.7740, Test: 0.7640\n",
      "Epoch 20, Loss: 0.7180, Train: 0.9500, Val: 0.7740, Test: 0.7620\n",
      "Epoch 21, Loss: 0.7190, Train: 0.9500, Val: 0.7820, Test: 0.7650\n",
      "Epoch 22, Loss: 0.7196, Train: 0.9500, Val: 0.7800, Test: 0.7640\n",
      "Epoch 23, Loss: 0.7200, Train: 0.9500, Val: 0.7800, Test: 0.7680\n",
      "Epoch 24, Loss: 0.7201, Train: 0.9500, Val: 0.7760, Test: 0.7690\n",
      "Epoch 25, Loss: 0.7200, Train: 0.9500, Val: 0.7760, Test: 0.7700\n",
      "Epoch 26, Loss: 0.7198, Train: 0.9500, Val: 0.7720, Test: 0.7700\n",
      "Epoch 27, Loss: 0.7196, Train: 0.9500, Val: 0.7720, Test: 0.7690\n",
      "Epoch 28, Loss: 0.7193, Train: 0.9500, Val: 0.7720, Test: 0.7680\n",
      "Epoch 29, Loss: 0.7190, Train: 0.9500, Val: 0.7700, Test: 0.7680\n",
      "Epoch 30, Loss: 0.7188, Train: 0.9500, Val: 0.7720, Test: 0.7680\n",
      "Epoch 31, Loss: 0.7187, Train: 0.9500, Val: 0.7700, Test: 0.7690\n",
      "Epoch 32, Loss: 0.7186, Train: 0.9500, Val: 0.7720, Test: 0.7690\n",
      "Epoch 33, Loss: 0.7185, Train: 0.9500, Val: 0.7720, Test: 0.7680\n",
      "Epoch 34, Loss: 0.7184, Train: 0.9500, Val: 0.7720, Test: 0.7670\n",
      "Epoch 35, Loss: 0.7183, Train: 0.9500, Val: 0.7720, Test: 0.7640\n",
      "Epoch 36, Loss: 0.7182, Train: 0.9500, Val: 0.7700, Test: 0.7640\n",
      "Epoch 37, Loss: 0.7180, Train: 0.9500, Val: 0.7720, Test: 0.7650\n",
      "Epoch 38, Loss: 0.7177, Train: 0.9500, Val: 0.7720, Test: 0.7660\n",
      "Epoch 39, Loss: 0.7175, Train: 0.9500, Val: 0.7640, Test: 0.7660\n",
      "Epoch 40, Loss: 0.7171, Train: 0.9500, Val: 0.7640, Test: 0.7650\n",
      "Epoch 41, Loss: 0.7168, Train: 0.9500, Val: 0.7660, Test: 0.7670\n",
      "Epoch 42, Loss: 0.7164, Train: 0.9500, Val: 0.7680, Test: 0.7660\n",
      "Epoch 43, Loss: 0.7160, Train: 0.9500, Val: 0.7640, Test: 0.7660\n",
      "Epoch 44, Loss: 0.7156, Train: 0.9500, Val: 0.7640, Test: 0.7670\n",
      "Epoch 45, Loss: 0.7153, Train: 0.9500, Val: 0.7680, Test: 0.7670\n",
      "Epoch 46, Loss: 0.7151, Train: 0.9500, Val: 0.7700, Test: 0.7700\n",
      "Epoch 47, Loss: 0.7149, Train: 0.9500, Val: 0.7700, Test: 0.7710\n",
      "Epoch 48, Loss: 0.7147, Train: 0.9500, Val: 0.7680, Test: 0.7720\n",
      "Epoch 49, Loss: 0.7146, Train: 0.9500, Val: 0.7680, Test: 0.7720\n",
      "Epoch 50, Loss: 0.7146, Train: 0.9500, Val: 0.7660, Test: 0.7710\n",
      "Training time: 186.0106s\n"
     ]
    },
    {
     "data": {
      "text/plain": [
       "0.771"
      ]
     },
     "execution_count": 11,
     "metadata": {},
     "output_type": "execute_result"
    }
   ],
   "source": [
    "train(model, g, features, labels, train_mask, val_mask, test_mask)\n",
    "test(model, g, features, labels, test_mask)"
   ]
  }
 ],
 "metadata": {
  "kernelspec": {
   "display_name": "Python 3.9.6 ('venv': venv)",
   "language": "python",
   "name": "python3"
  },
  "language_info": {
   "codemirror_mode": {
    "name": "ipython",
    "version": 3
   },
   "file_extension": ".py",
   "mimetype": "text/x-python",
   "name": "python",
   "nbconvert_exporter": "python",
   "pygments_lexer": "ipython3",
   "version": "3.9.12"
  },
  "orig_nbformat": 4,
  "vscode": {
   "interpreter": {
    "hash": "53236ea3850ed19be974e6741f9c7a7506ed085a4abb6419de9917a82e4ffe4f"
   }
  }
 },
 "nbformat": 4,
 "nbformat_minor": 2
}
