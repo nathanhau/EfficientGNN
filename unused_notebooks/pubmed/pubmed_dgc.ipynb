{
 "cells": [
  {
   "cell_type": "code",
   "execution_count": 22,
   "metadata": {},
   "outputs": [],
   "source": [
    "import time\n",
    "import numpy as np\n",
    "import torch\n",
    "import torch.nn as nn\n",
    "import torch.nn.functional as F\n",
    "import dgl\n",
    "from dgl.data import CoraGraphDataset, CiteseerGraphDataset, PubmedGraphDataset\n",
    "from models import DGC\n",
    "from time import perf_counter"
   ]
  },
  {
   "cell_type": "code",
   "execution_count": 23,
   "metadata": {},
   "outputs": [],
   "source": [
    "lr = 0.2\n",
    "bias = False\n",
    "epochs = 50\n",
    "weight_decay = 5e-4\n",
    "loss_fn = torch.nn.CrossEntropyLoss()"
   ]
  },
  {
   "cell_type": "code",
   "execution_count": 24,
   "metadata": {},
   "outputs": [
    {
     "name": "stdout",
     "output_type": "stream",
     "text": [
      "  NumNodes: 19717\n",
      "  NumEdges: 88651\n",
      "  NumFeats: 500\n",
      "  NumClasses: 3\n",
      "  NumTrainingSamples: 60\n",
      "  NumValidationSamples: 500\n",
      "  NumTestSamples: 1000\n",
      "Done loading data from cached files.\n"
     ]
    }
   ],
   "source": [
    "data = PubmedGraphDataset()\n",
    "g = data[0]\n",
    "features = g.ndata['feat']\n",
    "labels = g.ndata['label']\n",
    "train_mask = g.ndata['train_mask']\n",
    "val_mask = g.ndata['val_mask']\n",
    "test_mask = g.ndata['test_mask']\n",
    "in_feats = features.shape[1]\n",
    "n_classes = data.num_labels\n",
    "n_edges = g.number_of_edges()\n",
    "g = dgl.remove_self_loop(g)\n",
    "g = dgl.add_self_loop(g)"
   ]
  },
  {
   "cell_type": "code",
   "execution_count": 25,
   "metadata": {},
   "outputs": [],
   "source": [
    "model = DGC(in_feats, n_classes, K=2, T=2, bias=bias)\n",
    "optimizer = torch.optim.Adam(model.parameters(), lr=lr, weight_decay=weight_decay)"
   ]
  },
  {
   "cell_type": "code",
   "execution_count": 26,
   "metadata": {},
   "outputs": [],
   "source": [
    "def test(model, g, features, labels, mask):\n",
    "    model.eval()\n",
    "    with torch.no_grad():\n",
    "        logits = model(g, features)[mask]  # only compute the evaluation set\n",
    "        labels = labels[mask]\n",
    "        _, indices = torch.max(logits, dim=1)\n",
    "        correct = torch.sum(indices == labels)\n",
    "        return correct.item() * 1.0 / len(labels)"
   ]
  },
  {
   "cell_type": "code",
   "execution_count": 27,
   "metadata": {},
   "outputs": [],
   "source": [
    "def train(model, g, features, labels, train_mask, val_mask, test_mask):\n",
    "    t = perf_counter()\n",
    "    for epoch in range(epochs):\n",
    "        model.train()\n",
    "        logits = model(g, features)\n",
    "        loss = loss_fn(logits[train_mask], labels[train_mask])\n",
    "        optimizer.zero_grad()\n",
    "        loss.backward()\n",
    "        optimizer.step()\n",
    "\n",
    "        model.eval()\n",
    "        logits = model(g, features)\n",
    "        train_acc = torch.sum(logits[train_mask].argmax(1) == labels[train_mask]).item() / train_mask.sum().item()\n",
    "        val_acc = torch.sum(logits[val_mask].argmax(1) == labels[val_mask]).item() / val_mask.sum().item()\n",
    "        test_acc = torch.sum(logits[test_mask].argmax(1) == labels[test_mask]).item() / test_mask.sum().item()\n",
    "        print(f'Epoch {epoch + 1:02d}, Loss: {loss:.4f}, Train: {train_acc:.4f}, Val: {val_acc:.4f}, Test: {test_acc:.4f}')\n",
    "\n",
    "    training_time = perf_counter()-t\n",
    "    print(f'Training time: {training_time:.4f}s')"
   ]
  },
  {
   "cell_type": "code",
   "execution_count": 28,
   "metadata": {},
   "outputs": [
    {
     "name": "stdout",
     "output_type": "stream",
     "text": [
      "Epoch 01, Loss: 1.0973, Train: 0.9333, Val: 0.7040, Test: 0.7150\n",
      "Epoch 02, Loss: 1.0072, Train: 0.9333, Val: 0.7220, Test: 0.7320\n",
      "Epoch 03, Loss: 0.9295, Train: 0.9500, Val: 0.7380, Test: 0.7380\n",
      "Epoch 04, Loss: 0.8656, Train: 0.9667, Val: 0.7440, Test: 0.7430\n",
      "Epoch 05, Loss: 0.8155, Train: 0.9667, Val: 0.7440, Test: 0.7430\n",
      "Epoch 06, Loss: 0.7774, Train: 0.9667, Val: 0.7460, Test: 0.7460\n",
      "Epoch 07, Loss: 0.7495, Train: 0.9667, Val: 0.7460, Test: 0.7430\n",
      "Epoch 08, Loss: 0.7298, Train: 0.9667, Val: 0.7540, Test: 0.7450\n",
      "Epoch 09, Loss: 0.7168, Train: 0.9667, Val: 0.7540, Test: 0.7480\n",
      "Epoch 10, Loss: 0.7089, Train: 0.9667, Val: 0.7600, Test: 0.7550\n",
      "Epoch 11, Loss: 0.7048, Train: 0.9667, Val: 0.7680, Test: 0.7520\n",
      "Epoch 12, Loss: 0.7034, Train: 0.9500, Val: 0.7700, Test: 0.7570\n",
      "Epoch 13, Loss: 0.7040, Train: 0.9500, Val: 0.7760, Test: 0.7630\n",
      "Epoch 14, Loss: 0.7057, Train: 0.9500, Val: 0.7780, Test: 0.7640\n",
      "Epoch 15, Loss: 0.7081, Train: 0.9500, Val: 0.7740, Test: 0.7630\n",
      "Epoch 16, Loss: 0.7107, Train: 0.9500, Val: 0.7820, Test: 0.7610\n",
      "Epoch 17, Loss: 0.7133, Train: 0.9500, Val: 0.7840, Test: 0.7610\n",
      "Epoch 18, Loss: 0.7155, Train: 0.9500, Val: 0.7820, Test: 0.7630\n",
      "Epoch 19, Loss: 0.7175, Train: 0.9500, Val: 0.7780, Test: 0.7650\n",
      "Epoch 20, Loss: 0.7190, Train: 0.9500, Val: 0.7760, Test: 0.7630\n",
      "Epoch 21, Loss: 0.7202, Train: 0.9500, Val: 0.7760, Test: 0.7630\n",
      "Epoch 22, Loss: 0.7209, Train: 0.9500, Val: 0.7760, Test: 0.7660\n",
      "Epoch 23, Loss: 0.7212, Train: 0.9500, Val: 0.7700, Test: 0.7670\n",
      "Epoch 24, Loss: 0.7213, Train: 0.9500, Val: 0.7720, Test: 0.7690\n",
      "Epoch 25, Loss: 0.7211, Train: 0.9500, Val: 0.7700, Test: 0.7700\n",
      "Epoch 26, Loss: 0.7207, Train: 0.9500, Val: 0.7720, Test: 0.7700\n",
      "Epoch 27, Loss: 0.7202, Train: 0.9500, Val: 0.7720, Test: 0.7690\n",
      "Epoch 28, Loss: 0.7197, Train: 0.9500, Val: 0.7700, Test: 0.7680\n",
      "Epoch 29, Loss: 0.7193, Train: 0.9500, Val: 0.7700, Test: 0.7700\n",
      "Epoch 30, Loss: 0.7189, Train: 0.9500, Val: 0.7700, Test: 0.7710\n",
      "Epoch 31, Loss: 0.7186, Train: 0.9500, Val: 0.7720, Test: 0.7710\n",
      "Epoch 32, Loss: 0.7184, Train: 0.9500, Val: 0.7720, Test: 0.7700\n",
      "Epoch 33, Loss: 0.7183, Train: 0.9500, Val: 0.7740, Test: 0.7680\n",
      "Epoch 34, Loss: 0.7182, Train: 0.9500, Val: 0.7760, Test: 0.7690\n",
      "Epoch 35, Loss: 0.7180, Train: 0.9500, Val: 0.7740, Test: 0.7690\n",
      "Epoch 36, Loss: 0.7178, Train: 0.9500, Val: 0.7720, Test: 0.7690\n",
      "Epoch 37, Loss: 0.7176, Train: 0.9500, Val: 0.7740, Test: 0.7670\n",
      "Epoch 38, Loss: 0.7173, Train: 0.9500, Val: 0.7700, Test: 0.7690\n",
      "Epoch 39, Loss: 0.7170, Train: 0.9500, Val: 0.7660, Test: 0.7660\n",
      "Epoch 40, Loss: 0.7167, Train: 0.9500, Val: 0.7640, Test: 0.7660\n",
      "Epoch 41, Loss: 0.7165, Train: 0.9500, Val: 0.7640, Test: 0.7660\n",
      "Epoch 42, Loss: 0.7162, Train: 0.9500, Val: 0.7640, Test: 0.7670\n",
      "Epoch 43, Loss: 0.7160, Train: 0.9500, Val: 0.7660, Test: 0.7680\n",
      "Epoch 44, Loss: 0.7158, Train: 0.9500, Val: 0.7660, Test: 0.7670\n",
      "Epoch 45, Loss: 0.7156, Train: 0.9500, Val: 0.7660, Test: 0.7670\n",
      "Epoch 46, Loss: 0.7154, Train: 0.9500, Val: 0.7660, Test: 0.7680\n",
      "Epoch 47, Loss: 0.7153, Train: 0.9500, Val: 0.7660, Test: 0.7690\n",
      "Epoch 48, Loss: 0.7151, Train: 0.9500, Val: 0.7680, Test: 0.7710\n",
      "Epoch 49, Loss: 0.7150, Train: 0.9500, Val: 0.7660, Test: 0.7720\n",
      "Epoch 50, Loss: 0.7149, Train: 0.9500, Val: 0.7680, Test: 0.7710\n",
      "Training time: 644.2334s\n"
     ]
    },
    {
     "data": {
      "text/plain": [
       "0.771"
      ]
     },
     "execution_count": 28,
     "metadata": {},
     "output_type": "execute_result"
    }
   ],
   "source": [
    "train(model, g, features, labels, train_mask, val_mask, test_mask)\n",
    "test(model, g, features, labels, test_mask)"
   ]
  }
 ],
 "metadata": {
  "kernelspec": {
   "display_name": "Python 3.9.6 ('venv': venv)",
   "language": "python",
   "name": "python3"
  },
  "language_info": {
   "codemirror_mode": {
    "name": "ipython",
    "version": 3
   },
   "file_extension": ".py",
   "mimetype": "text/x-python",
   "name": "python",
   "nbconvert_exporter": "python",
   "pygments_lexer": "ipython3",
   "version": "3.9.6"
  },
  "orig_nbformat": 4,
  "vscode": {
   "interpreter": {
    "hash": "53236ea3850ed19be974e6741f9c7a7506ed085a4abb6419de9917a82e4ffe4f"
   }
  }
 },
 "nbformat": 4,
 "nbformat_minor": 2
}
