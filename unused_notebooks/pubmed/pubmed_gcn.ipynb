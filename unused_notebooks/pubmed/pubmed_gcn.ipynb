{
 "cells": [
  {
   "cell_type": "code",
   "execution_count": 1,
   "metadata": {},
   "outputs": [
    {
     "name": "stderr",
     "output_type": "stream",
     "text": [
      "d:\\Files\\Coding\\ml\\EfficientGNN\\venv\\lib\\site-packages\\tqdm\\auto.py:22: TqdmWarning: IProgress not found. Please update jupyter and ipywidgets. See https://ipywidgets.readthedocs.io/en/stable/user_install.html\n",
      "  from .autonotebook import tqdm as notebook_tqdm\n"
     ]
    }
   ],
   "source": [
    "from models import GCN\n",
    "from dgl.data import CoraGraphDataset, CiteseerGraphDataset, PubmedGraphDataset\n",
    "import torch.nn as nn\n",
    "import torch\n",
    "import torch.nn.functional as F\n",
    "import dgl\n",
    "from time import perf_counter"
   ]
  },
  {
   "cell_type": "code",
   "execution_count": 2,
   "metadata": {},
   "outputs": [],
   "source": [
    "device = 'cpu'\n",
    "activation = nn.ReLU()\n",
    "epochs = 50\n",
    "batch_size = 10000\n",
    "lr = 0.02\n",
    "loss_fn = nn.CrossEntropyLoss()\n",
    "weight_decay = 5e-4"
   ]
  },
  {
   "cell_type": "code",
   "execution_count": 3,
   "metadata": {},
   "outputs": [
    {
     "name": "stdout",
     "output_type": "stream",
     "text": [
      "  NumNodes: 19717\n",
      "  NumEdges: 88651\n",
      "  NumFeats: 500\n",
      "  NumClasses: 3\n",
      "  NumTrainingSamples: 60\n",
      "  NumValidationSamples: 500\n",
      "  NumTestSamples: 1000\n",
      "Done loading data from cached files.\n"
     ]
    },
    {
     "name": "stderr",
     "output_type": "stream",
     "text": [
      "d:\\Files\\Coding\\ml\\EfficientGNN\\venv\\lib\\site-packages\\dgl\\data\\utils.py:288: UserWarning: Property dataset.num_labels will be deprecated, please use dataset.num_classes instead.\n",
      "  warnings.warn('Property {} will be deprecated, please use {} instead.'.format(old, new))\n"
     ]
    }
   ],
   "source": [
    "data = PubmedGraphDataset()\n",
    "g = data[0]\n",
    "g = g.to(device)\n",
    "features = g.ndata['feat']\n",
    "labels = g.ndata['label']\n",
    "train_mask = g.ndata['train_mask']\n",
    "val_mask = g.ndata['val_mask']\n",
    "test_mask = g.ndata['test_mask']\n",
    "in_feats = features.shape[-1]\n",
    "n_classes = data.num_labels\n",
    "n_edges = g.number_of_edges()\n",
    "g = dgl.remove_self_loop(g)\n",
    "g = dgl.add_self_loop(g)"
   ]
  },
  {
   "cell_type": "code",
   "execution_count": 4,
   "metadata": {},
   "outputs": [],
   "source": [
    "model = GCN(in_feats, 16, n_classes, 2, activation, dropout=0.2)\n",
    "optimizer = torch.optim.Adam(model.parameters(), lr=lr, weight_decay=weight_decay)"
   ]
  },
  {
   "cell_type": "code",
   "execution_count": 5,
   "metadata": {},
   "outputs": [],
   "source": [
    "def train(model, g, features, labels, train_mask, val_mask, test_mask):\n",
    "    t = perf_counter()\n",
    "    for epoch in range(epochs):\n",
    "        model.train()\n",
    "        logits = model(g, features)\n",
    "        loss = loss_fn(logits[train_mask], labels[train_mask])\n",
    "        optimizer.zero_grad()\n",
    "        loss.backward()\n",
    "        optimizer.step()\n",
    "\n",
    "        model.eval()\n",
    "        logits = model(g, features)\n",
    "        train_acc = torch.sum(logits[train_mask].argmax(1) == labels[train_mask]).item() / train_mask.sum().item()\n",
    "        val_acc = torch.sum(logits[val_mask].argmax(1) == labels[val_mask]).item() / val_mask.sum().item()\n",
    "        test_acc = torch.sum(logits[test_mask].argmax(1) == labels[test_mask]).item() / test_mask.sum().item()\n",
    "        print(f'Epoch {epoch + 1:02d}, Loss: {loss:.4f}, Train: {train_acc:.4f}, Val: {val_acc:.4f}, Test: {test_acc:.4f}')\n",
    "\n",
    "    training_time = perf_counter()-t\n",
    "    print(f'Training time: {training_time:.4f}s')"
   ]
  },
  {
   "cell_type": "code",
   "execution_count": 6,
   "metadata": {},
   "outputs": [
    {
     "name": "stdout",
     "output_type": "stream",
     "text": [
      "Epoch 01, Loss: 1.1006, Train: 0.4000, Val: 0.4280, Test: 0.4280\n",
      "Epoch 02, Loss: 1.0948, Train: 0.6333, Val: 0.4880, Test: 0.4730\n",
      "Epoch 03, Loss: 1.0880, Train: 0.6833, Val: 0.4880, Test: 0.4700\n",
      "Epoch 04, Loss: 1.0773, Train: 0.6000, Val: 0.4300, Test: 0.4020\n",
      "Epoch 05, Loss: 1.0663, Train: 0.6333, Val: 0.4740, Test: 0.4490\n",
      "Epoch 06, Loss: 1.0530, Train: 0.7000, Val: 0.5780, Test: 0.5770\n",
      "Epoch 07, Loss: 1.0391, Train: 0.8000, Val: 0.6460, Test: 0.6270\n",
      "Epoch 08, Loss: 1.0251, Train: 0.8000, Val: 0.6640, Test: 0.6510\n",
      "Epoch 09, Loss: 1.0073, Train: 0.8333, Val: 0.6840, Test: 0.6610\n",
      "Epoch 10, Loss: 0.9921, Train: 0.8333, Val: 0.6940, Test: 0.6670\n",
      "Epoch 11, Loss: 0.9719, Train: 0.8333, Val: 0.6940, Test: 0.6690\n",
      "Epoch 12, Loss: 0.9593, Train: 0.8500, Val: 0.7020, Test: 0.6680\n",
      "Epoch 13, Loss: 0.9308, Train: 0.8667, Val: 0.7060, Test: 0.6740\n",
      "Epoch 14, Loss: 0.9193, Train: 0.8833, Val: 0.7140, Test: 0.6770\n",
      "Epoch 15, Loss: 0.9046, Train: 0.8833, Val: 0.7060, Test: 0.6810\n",
      "Epoch 16, Loss: 0.8678, Train: 0.8833, Val: 0.7080, Test: 0.6810\n",
      "Epoch 17, Loss: 0.8543, Train: 0.9167, Val: 0.7080, Test: 0.6820\n",
      "Epoch 18, Loss: 0.8258, Train: 0.9167, Val: 0.7140, Test: 0.6750\n",
      "Epoch 19, Loss: 0.8043, Train: 0.9167, Val: 0.7120, Test: 0.6780\n",
      "Epoch 20, Loss: 0.7766, Train: 0.9167, Val: 0.7300, Test: 0.6880\n",
      "Epoch 21, Loss: 0.7455, Train: 0.9167, Val: 0.7340, Test: 0.7040\n",
      "Epoch 22, Loss: 0.7572, Train: 0.9333, Val: 0.7400, Test: 0.7120\n",
      "Epoch 23, Loss: 0.7088, Train: 0.9333, Val: 0.7420, Test: 0.7170\n",
      "Epoch 24, Loss: 0.6954, Train: 0.9333, Val: 0.7420, Test: 0.7190\n",
      "Epoch 25, Loss: 0.6647, Train: 0.9333, Val: 0.7480, Test: 0.7190\n",
      "Epoch 26, Loss: 0.6687, Train: 0.9333, Val: 0.7460, Test: 0.7200\n",
      "Epoch 27, Loss: 0.6329, Train: 0.9333, Val: 0.7400, Test: 0.7140\n",
      "Epoch 28, Loss: 0.6113, Train: 0.9500, Val: 0.7400, Test: 0.7100\n",
      "Epoch 29, Loss: 0.5823, Train: 0.9500, Val: 0.7460, Test: 0.7090\n",
      "Epoch 30, Loss: 0.5838, Train: 0.9500, Val: 0.7500, Test: 0.7120\n",
      "Epoch 31, Loss: 0.5508, Train: 0.9500, Val: 0.7540, Test: 0.7180\n",
      "Epoch 32, Loss: 0.5586, Train: 0.9500, Val: 0.7560, Test: 0.7220\n",
      "Epoch 33, Loss: 0.5168, Train: 0.9500, Val: 0.7540, Test: 0.7250\n",
      "Epoch 34, Loss: 0.5346, Train: 0.9500, Val: 0.7520, Test: 0.7210\n",
      "Epoch 35, Loss: 0.4869, Train: 0.9500, Val: 0.7500, Test: 0.7200\n",
      "Epoch 36, Loss: 0.5012, Train: 0.9500, Val: 0.7460, Test: 0.7230\n",
      "Epoch 37, Loss: 0.4668, Train: 0.9500, Val: 0.7440, Test: 0.7150\n",
      "Epoch 38, Loss: 0.4501, Train: 0.9500, Val: 0.7440, Test: 0.7250\n",
      "Epoch 39, Loss: 0.4385, Train: 0.9500, Val: 0.7500, Test: 0.7250\n",
      "Epoch 40, Loss: 0.4089, Train: 0.9500, Val: 0.7600, Test: 0.7280\n",
      "Epoch 41, Loss: 0.4201, Train: 0.9500, Val: 0.7740, Test: 0.7300\n",
      "Epoch 42, Loss: 0.4327, Train: 0.9500, Val: 0.7720, Test: 0.7300\n",
      "Epoch 43, Loss: 0.4034, Train: 0.9667, Val: 0.7700, Test: 0.7290\n",
      "Epoch 44, Loss: 0.4237, Train: 0.9667, Val: 0.7680, Test: 0.7370\n",
      "Epoch 45, Loss: 0.3657, Train: 0.9667, Val: 0.7640, Test: 0.7360\n",
      "Epoch 46, Loss: 0.3972, Train: 0.9667, Val: 0.7720, Test: 0.7380\n",
      "Epoch 47, Loss: 0.3854, Train: 0.9667, Val: 0.7740, Test: 0.7380\n",
      "Epoch 48, Loss: 0.3644, Train: 0.9667, Val: 0.7780, Test: 0.7340\n",
      "Epoch 49, Loss: 0.3844, Train: 0.9833, Val: 0.7780, Test: 0.7340\n",
      "Epoch 50, Loss: 0.3486, Train: 0.9833, Val: 0.7760, Test: 0.7340\n",
      "Training time: 157.8860s\n"
     ]
    }
   ],
   "source": [
    "train(model, g, features, labels, train_mask, val_mask, test_mask)"
   ]
  }
 ],
 "metadata": {
  "kernelspec": {
   "display_name": "Python 3.9.6 ('venv': venv)",
   "language": "python",
   "name": "python3"
  },
  "language_info": {
   "codemirror_mode": {
    "name": "ipython",
    "version": 3
   },
   "file_extension": ".py",
   "mimetype": "text/x-python",
   "name": "python",
   "nbconvert_exporter": "python",
   "pygments_lexer": "ipython3",
   "version": "3.9.6"
  },
  "orig_nbformat": 4,
  "vscode": {
   "interpreter": {
    "hash": "53236ea3850ed19be974e6741f9c7a7506ed085a4abb6419de9917a82e4ffe4f"
   }
  }
 },
 "nbformat": 4,
 "nbformat_minor": 2
}
