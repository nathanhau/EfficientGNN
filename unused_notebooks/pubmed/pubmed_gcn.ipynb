{
 "cells": [
  {
   "cell_type": "code",
   "execution_count": 7,
   "metadata": {},
   "outputs": [],
   "source": [
    "from models.GCN import GCN\n",
    "from dgl.data import CoraGraphDataset, CiteseerGraphDataset, PubmedGraphDataset\n",
    "import torch.nn as nn\n",
    "import torch\n",
    "import torch.nn.functional as F\n",
    "import dgl\n",
    "from time import perf_counter"
   ]
  },
  {
   "cell_type": "code",
   "execution_count": 8,
   "metadata": {},
   "outputs": [],
   "source": [
    "device = 'cpu'\n",
    "activation = nn.ReLU()\n",
    "epochs = 50\n",
    "batch_size = 10000\n",
    "lr = 0.02\n",
    "loss_fn = nn.CrossEntropyLoss()\n",
    "weight_decay = 5e-4"
   ]
  },
  {
   "cell_type": "code",
   "execution_count": 9,
   "metadata": {},
   "outputs": [
    {
     "name": "stdout",
     "output_type": "stream",
     "text": [
      "  NumNodes: 19717\n",
      "  NumEdges: 88651\n",
      "  NumFeats: 500\n",
      "  NumClasses: 3\n",
      "  NumTrainingSamples: 60\n",
      "  NumValidationSamples: 500\n",
      "  NumTestSamples: 1000\n",
      "Done loading data from cached files.\n"
     ]
    }
   ],
   "source": [
    "data = PubmedGraphDataset()\n",
    "g = data[0]\n",
    "g = g.to(device)\n",
    "features = g.ndata['feat']\n",
    "labels = g.ndata['label']\n",
    "train_mask = g.ndata['train_mask']\n",
    "val_mask = g.ndata['val_mask']\n",
    "test_mask = g.ndata['test_mask']\n",
    "in_feats = features.shape[-1]\n",
    "n_classes = data.num_labels\n",
    "n_edges = g.number_of_edges()\n",
    "g = dgl.remove_self_loop(g)\n",
    "g = dgl.add_self_loop(g)"
   ]
  },
  {
   "cell_type": "code",
   "execution_count": 10,
   "metadata": {},
   "outputs": [],
   "source": [
    "model = GCN(in_feats, 16, n_classes, 2, activation, dropout=0.2)\n",
    "optimizer = torch.optim.Adam(model.parameters(), lr=lr, weight_decay=weight_decay)"
   ]
  },
  {
   "cell_type": "code",
   "execution_count": 11,
   "metadata": {},
   "outputs": [],
   "source": [
    "def test(model, g, features, labels, mask):\n",
    "    model.eval()\n",
    "    with torch.no_grad():\n",
    "        logits = model(g, features)[mask]  # only compute the evaluation set\n",
    "        labels = labels[mask]\n",
    "        _, indices = torch.max(logits, dim=1)\n",
    "        correct = torch.sum(indices == labels)\n",
    "        return correct.item() * 1.0 / len(labels)"
   ]
  },
  {
   "cell_type": "code",
   "execution_count": 12,
   "metadata": {},
   "outputs": [],
   "source": [
    "def train(model, g, features, labels, train_mask, val_mask, test_mask):\n",
    "    t = perf_counter()\n",
    "    for epoch in range(epochs):\n",
    "        model.train()\n",
    "        logits = model(g, features)\n",
    "        loss = loss_fn(logits[train_mask], labels[train_mask])\n",
    "        optimizer.zero_grad()\n",
    "        loss.backward()\n",
    "        optimizer.step()\n",
    "\n",
    "        model.eval()\n",
    "        logits = model(g, features)\n",
    "        train_acc = torch.sum(logits[train_mask].argmax(1) == labels[train_mask]).item() / train_mask.sum().item()\n",
    "        val_acc = torch.sum(logits[val_mask].argmax(1) == labels[val_mask]).item() / val_mask.sum().item()\n",
    "        test_acc = torch.sum(logits[test_mask].argmax(1) == labels[test_mask]).item() / test_mask.sum().item()\n",
    "        print(f'Epoch {epoch + 1:02d}, Loss: {loss:.4f}, Train: {train_acc:.4f}, Val: {val_acc:.4f}, Test: {test_acc:.4f}')\n",
    "\n",
    "    training_time = perf_counter()-t\n",
    "    print(f'Training time: {training_time:.4f}s')"
   ]
  },
  {
   "cell_type": "code",
   "execution_count": 13,
   "metadata": {},
   "outputs": [
    {
     "name": "stdout",
     "output_type": "stream",
     "text": [
      "Epoch 01, Loss: 1.0990, Train: 0.3333, Val: 0.4140, Test: 0.4070\n",
      "Epoch 02, Loss: 1.0947, Train: 0.8667, Val: 0.6800, Test: 0.6710\n",
      "Epoch 03, Loss: 1.0876, Train: 0.5833, Val: 0.5420, Test: 0.5720\n",
      "Epoch 04, Loss: 1.0777, Train: 0.7167, Val: 0.6240, Test: 0.6480\n",
      "Epoch 05, Loss: 1.0654, Train: 0.9000, Val: 0.6920, Test: 0.7120\n",
      "Epoch 06, Loss: 1.0557, Train: 0.9000, Val: 0.7280, Test: 0.7150\n",
      "Epoch 07, Loss: 1.0412, Train: 0.9333, Val: 0.7480, Test: 0.7240\n",
      "Epoch 08, Loss: 1.0255, Train: 0.9167, Val: 0.7380, Test: 0.7160\n",
      "Epoch 09, Loss: 1.0067, Train: 0.9333, Val: 0.7280, Test: 0.7170\n",
      "Epoch 10, Loss: 0.9891, Train: 0.9333, Val: 0.7220, Test: 0.7250\n",
      "Epoch 11, Loss: 0.9741, Train: 0.9500, Val: 0.7440, Test: 0.7270\n",
      "Epoch 12, Loss: 0.9501, Train: 0.9500, Val: 0.7500, Test: 0.7410\n",
      "Epoch 13, Loss: 0.9227, Train: 0.9500, Val: 0.7500, Test: 0.7390\n",
      "Epoch 14, Loss: 0.9008, Train: 0.9500, Val: 0.7540, Test: 0.7430\n",
      "Epoch 15, Loss: 0.8818, Train: 0.9500, Val: 0.7600, Test: 0.7440\n",
      "Epoch 16, Loss: 0.8639, Train: 0.9500, Val: 0.7620, Test: 0.7380\n",
      "Epoch 17, Loss: 0.8373, Train: 0.9500, Val: 0.7600, Test: 0.7270\n",
      "Epoch 18, Loss: 0.8047, Train: 0.9333, Val: 0.7560, Test: 0.7280\n",
      "Epoch 19, Loss: 0.7842, Train: 0.9500, Val: 0.7600, Test: 0.7400\n",
      "Epoch 20, Loss: 0.7559, Train: 0.9500, Val: 0.7520, Test: 0.7420\n",
      "Epoch 21, Loss: 0.7504, Train: 0.9500, Val: 0.7560, Test: 0.7420\n",
      "Epoch 22, Loss: 0.7076, Train: 0.9500, Val: 0.7580, Test: 0.7430\n",
      "Epoch 23, Loss: 0.6816, Train: 0.9500, Val: 0.7640, Test: 0.7510\n",
      "Epoch 24, Loss: 0.6484, Train: 0.9500, Val: 0.7660, Test: 0.7530\n",
      "Epoch 25, Loss: 0.6343, Train: 0.9500, Val: 0.7720, Test: 0.7540\n",
      "Epoch 26, Loss: 0.5806, Train: 0.9500, Val: 0.7720, Test: 0.7540\n",
      "Epoch 27, Loss: 0.5714, Train: 0.9500, Val: 0.7760, Test: 0.7550\n",
      "Epoch 28, Loss: 0.5342, Train: 0.9500, Val: 0.7680, Test: 0.7510\n",
      "Epoch 29, Loss: 0.5122, Train: 0.9500, Val: 0.7660, Test: 0.7570\n",
      "Epoch 30, Loss: 0.5241, Train: 0.9500, Val: 0.7740, Test: 0.7620\n",
      "Epoch 31, Loss: 0.5189, Train: 0.9500, Val: 0.7760, Test: 0.7630\n",
      "Epoch 32, Loss: 0.4625, Train: 0.9500, Val: 0.7780, Test: 0.7660\n",
      "Epoch 33, Loss: 0.4797, Train: 0.9667, Val: 0.7820, Test: 0.7640\n",
      "Epoch 34, Loss: 0.4493, Train: 0.9667, Val: 0.7820, Test: 0.7650\n",
      "Epoch 35, Loss: 0.4168, Train: 0.9500, Val: 0.7820, Test: 0.7690\n",
      "Epoch 36, Loss: 0.3874, Train: 0.9500, Val: 0.7820, Test: 0.7780\n",
      "Epoch 37, Loss: 0.3947, Train: 0.9667, Val: 0.7840, Test: 0.7800\n",
      "Epoch 38, Loss: 0.3548, Train: 0.9667, Val: 0.7800, Test: 0.7780\n",
      "Epoch 39, Loss: 0.3775, Train: 0.9833, Val: 0.7760, Test: 0.7790\n",
      "Epoch 40, Loss: 0.3739, Train: 0.9833, Val: 0.7820, Test: 0.7770\n",
      "Epoch 41, Loss: 0.3749, Train: 0.9833, Val: 0.7900, Test: 0.7770\n",
      "Epoch 42, Loss: 0.3662, Train: 0.9833, Val: 0.7860, Test: 0.7740\n",
      "Epoch 43, Loss: 0.3215, Train: 0.9833, Val: 0.7860, Test: 0.7750\n",
      "Epoch 44, Loss: 0.3229, Train: 0.9833, Val: 0.7920, Test: 0.7810\n",
      "Epoch 45, Loss: 0.3474, Train: 0.9833, Val: 0.7980, Test: 0.7820\n",
      "Epoch 46, Loss: 0.3078, Train: 0.9833, Val: 0.7960, Test: 0.7910\n",
      "Epoch 47, Loss: 0.2914, Train: 0.9833, Val: 0.7920, Test: 0.7830\n",
      "Epoch 48, Loss: 0.3181, Train: 0.9833, Val: 0.7920, Test: 0.7820\n",
      "Epoch 49, Loss: 0.2911, Train: 0.9833, Val: 0.7880, Test: 0.7910\n",
      "Epoch 50, Loss: 0.2903, Train: 0.9833, Val: 0.7840, Test: 0.7860\n",
      "Training time: 18.7805s\n"
     ]
    },
    {
     "data": {
      "text/plain": [
       "0.786"
      ]
     },
     "execution_count": 13,
     "metadata": {},
     "output_type": "execute_result"
    }
   ],
   "source": [
    "train(model, g, features, labels, train_mask, val_mask, test_mask)\n",
    "test(model, g, features, labels, test_mask)"
   ]
  }
 ],
 "metadata": {
  "kernelspec": {
   "display_name": "Python 3.9.6 ('venv': venv)",
   "language": "python",
   "name": "python3"
  },
  "language_info": {
   "codemirror_mode": {
    "name": "ipython",
    "version": 3
   },
   "file_extension": ".py",
   "mimetype": "text/x-python",
   "name": "python",
   "nbconvert_exporter": "python",
   "pygments_lexer": "ipython3",
   "version": "3.9.12"
  },
  "orig_nbformat": 4,
  "vscode": {
   "interpreter": {
    "hash": "53236ea3850ed19be974e6741f9c7a7506ed085a4abb6419de9917a82e4ffe4f"
   }
  }
 },
 "nbformat": 4,
 "nbformat_minor": 2
}
