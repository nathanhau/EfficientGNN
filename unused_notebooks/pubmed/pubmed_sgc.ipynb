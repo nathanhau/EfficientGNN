{
 "cells": [
  {
   "cell_type": "code",
   "execution_count": 1,
   "metadata": {},
   "outputs": [
    {
     "name": "stderr",
     "output_type": "stream",
     "text": [
      "d:\\Files\\Coding\\ml\\EfficientGNN\\venv\\lib\\site-packages\\tqdm\\auto.py:22: TqdmWarning: IProgress not found. Please update jupyter and ipywidgets. See https://ipywidgets.readthedocs.io/en/stable/user_install.html\n",
      "  from .autonotebook import tqdm as notebook_tqdm\n"
     ]
    }
   ],
   "source": [
    "import time\n",
    "import numpy as np\n",
    "import torch\n",
    "import torch.nn as nn\n",
    "import torch.nn.functional as F\n",
    "import dgl\n",
    "from dgl.data import CoraGraphDataset, CiteseerGraphDataset, PubmedGraphDataset\n",
    "from dgl.nn.pytorch.conv import SGConv\n",
    "from time import perf_counter"
   ]
  },
  {
   "cell_type": "code",
   "execution_count": 2,
   "metadata": {},
   "outputs": [],
   "source": [
    "lr = 0.2\n",
    "bias = False\n",
    "epochs = 50\n",
    "weight_decay = 5e-4\n",
    "loss_fn = torch.nn.CrossEntropyLoss()"
   ]
  },
  {
   "cell_type": "code",
   "execution_count": 3,
   "metadata": {},
   "outputs": [
    {
     "name": "stdout",
     "output_type": "stream",
     "text": [
      "  NumNodes: 19717\n",
      "  NumEdges: 88651\n",
      "  NumFeats: 500\n",
      "  NumClasses: 3\n",
      "  NumTrainingSamples: 60\n",
      "  NumValidationSamples: 500\n",
      "  NumTestSamples: 1000\n",
      "Done loading data from cached files.\n"
     ]
    },
    {
     "name": "stderr",
     "output_type": "stream",
     "text": [
      "d:\\Files\\Coding\\ml\\EfficientGNN\\venv\\lib\\site-packages\\dgl\\data\\utils.py:288: UserWarning: Property dataset.num_labels will be deprecated, please use dataset.num_classes instead.\n",
      "  warnings.warn('Property {} will be deprecated, please use {} instead.'.format(old, new))\n"
     ]
    }
   ],
   "source": [
    "data = PubmedGraphDataset()\n",
    "g = data[0]\n",
    "features = g.ndata['feat']\n",
    "labels = g.ndata['label']\n",
    "train_mask = g.ndata['train_mask']\n",
    "val_mask = g.ndata['val_mask']\n",
    "test_mask = g.ndata['test_mask']\n",
    "in_feats = features.shape[1]\n",
    "n_classes = data.num_labels\n",
    "n_edges = g.number_of_edges()\n",
    "g = dgl.remove_self_loop(g)\n",
    "g = dgl.add_self_loop(g)"
   ]
  },
  {
   "cell_type": "code",
   "execution_count": 4,
   "metadata": {},
   "outputs": [],
   "source": [
    "model = SGConv(in_feats, n_classes, k=2, cached=True, bias=bias)\n",
    "optimizer = torch.optim.Adam(model.parameters(), lr=lr, weight_decay=weight_decay)"
   ]
  },
  {
   "cell_type": "code",
   "execution_count": 5,
   "metadata": {},
   "outputs": [],
   "source": [
    "def test(model, g, features, labels, mask):\n",
    "    model.eval()\n",
    "    with torch.no_grad():\n",
    "        logits = model(g, features)[mask]  # only compute the evaluation set\n",
    "        labels = labels[mask]\n",
    "        _, indices = torch.max(logits, dim=1)\n",
    "        correct = torch.sum(indices == labels)\n",
    "        return correct.item() * 1.0 / len(labels)"
   ]
  },
  {
   "cell_type": "code",
   "execution_count": 6,
   "metadata": {},
   "outputs": [],
   "source": [
    "def train(model, g, features, labels, train_mask, val_mask, test_mask):\n",
    "    t = perf_counter()\n",
    "    for epoch in range(epochs):\n",
    "        model.train()\n",
    "        logits = model(g, features)\n",
    "        loss = loss_fn(logits[train_mask], labels[train_mask])\n",
    "        optimizer.zero_grad()\n",
    "        loss.backward()\n",
    "        optimizer.step()\n",
    "\n",
    "        model.eval()\n",
    "        logits = model(g, features)\n",
    "        train_acc = torch.sum(logits[train_mask].argmax(1) == labels[train_mask]).item() / train_mask.sum().item()\n",
    "        val_acc = torch.sum(logits[val_mask].argmax(1) == labels[val_mask]).item() / val_mask.sum().item()\n",
    "        test_acc = torch.sum(logits[test_mask].argmax(1) == labels[test_mask]).item() / test_mask.sum().item()\n",
    "        print(f'Epoch {epoch + 1:02d}, Loss: {loss:.4f}, Train: {train_acc:.4f}, Val: {val_acc:.4f}, Test: {test_acc:.4f}')\n",
    "    print(f'Time: {perf_counter()-t:.2f}s')"
   ]
  },
  {
   "cell_type": "code",
   "execution_count": 7,
   "metadata": {},
   "outputs": [
    {
     "name": "stdout",
     "output_type": "stream",
     "text": [
      "Epoch 01, Loss: 1.0993, Train: 0.9000, Val: 0.7080, Test: 0.6970\n",
      "Epoch 02, Loss: 1.0162, Train: 0.9167, Val: 0.7200, Test: 0.7140\n",
      "Epoch 03, Loss: 0.9454, Train: 0.9167, Val: 0.7360, Test: 0.7260\n",
      "Epoch 04, Loss: 0.8881, Train: 0.9500, Val: 0.7340, Test: 0.7320\n",
      "Epoch 05, Loss: 0.8437, Train: 0.9500, Val: 0.7440, Test: 0.7370\n",
      "Epoch 06, Loss: 0.8107, Train: 0.9500, Val: 0.7520, Test: 0.7380\n",
      "Epoch 07, Loss: 0.7871, Train: 0.9500, Val: 0.7560, Test: 0.7410\n",
      "Epoch 08, Loss: 0.7711, Train: 0.9667, Val: 0.7560, Test: 0.7500\n",
      "Epoch 09, Loss: 0.7610, Train: 0.9667, Val: 0.7560, Test: 0.7530\n",
      "Epoch 10, Loss: 0.7554, Train: 0.9667, Val: 0.7560, Test: 0.7550\n",
      "Epoch 11, Loss: 0.7530, Train: 0.9667, Val: 0.7580, Test: 0.7580\n",
      "Epoch 12, Loss: 0.7528, Train: 0.9667, Val: 0.7680, Test: 0.7600\n",
      "Epoch 13, Loss: 0.7541, Train: 0.9667, Val: 0.7720, Test: 0.7610\n",
      "Epoch 14, Loss: 0.7561, Train: 0.9667, Val: 0.7720, Test: 0.7570\n",
      "Epoch 15, Loss: 0.7585, Train: 0.9667, Val: 0.7720, Test: 0.7550\n",
      "Epoch 16, Loss: 0.7609, Train: 0.9667, Val: 0.7760, Test: 0.7570\n",
      "Epoch 17, Loss: 0.7630, Train: 0.9667, Val: 0.7780, Test: 0.7590\n",
      "Epoch 18, Loss: 0.7648, Train: 0.9667, Val: 0.7800, Test: 0.7600\n",
      "Epoch 19, Loss: 0.7662, Train: 0.9667, Val: 0.7740, Test: 0.7580\n",
      "Epoch 20, Loss: 0.7672, Train: 0.9667, Val: 0.7720, Test: 0.7610\n",
      "Epoch 21, Loss: 0.7678, Train: 0.9667, Val: 0.7680, Test: 0.7590\n",
      "Epoch 22, Loss: 0.7680, Train: 0.9667, Val: 0.7720, Test: 0.7600\n",
      "Epoch 23, Loss: 0.7680, Train: 0.9667, Val: 0.7700, Test: 0.7600\n",
      "Epoch 24, Loss: 0.7678, Train: 0.9667, Val: 0.7700, Test: 0.7590\n",
      "Epoch 25, Loss: 0.7675, Train: 0.9667, Val: 0.7680, Test: 0.7620\n",
      "Epoch 26, Loss: 0.7671, Train: 0.9667, Val: 0.7680, Test: 0.7620\n",
      "Epoch 27, Loss: 0.7667, Train: 0.9667, Val: 0.7640, Test: 0.7620\n",
      "Epoch 28, Loss: 0.7664, Train: 0.9667, Val: 0.7660, Test: 0.7620\n",
      "Epoch 29, Loss: 0.7660, Train: 0.9667, Val: 0.7640, Test: 0.7620\n",
      "Epoch 30, Loss: 0.7658, Train: 0.9667, Val: 0.7680, Test: 0.7630\n",
      "Epoch 31, Loss: 0.7655, Train: 0.9667, Val: 0.7680, Test: 0.7630\n",
      "Epoch 32, Loss: 0.7653, Train: 0.9667, Val: 0.7700, Test: 0.7630\n",
      "Epoch 33, Loss: 0.7651, Train: 0.9500, Val: 0.7660, Test: 0.7630\n",
      "Epoch 34, Loss: 0.7649, Train: 0.9500, Val: 0.7660, Test: 0.7610\n",
      "Epoch 35, Loss: 0.7647, Train: 0.9500, Val: 0.7620, Test: 0.7600\n",
      "Epoch 36, Loss: 0.7645, Train: 0.9500, Val: 0.7620, Test: 0.7590\n",
      "Epoch 37, Loss: 0.7642, Train: 0.9500, Val: 0.7600, Test: 0.7580\n",
      "Epoch 38, Loss: 0.7639, Train: 0.9500, Val: 0.7560, Test: 0.7560\n",
      "Epoch 39, Loss: 0.7635, Train: 0.9500, Val: 0.7540, Test: 0.7560\n",
      "Epoch 40, Loss: 0.7631, Train: 0.9500, Val: 0.7540, Test: 0.7570\n",
      "Epoch 41, Loss: 0.7628, Train: 0.9500, Val: 0.7520, Test: 0.7560\n",
      "Epoch 42, Loss: 0.7624, Train: 0.9500, Val: 0.7560, Test: 0.7560\n",
      "Epoch 43, Loss: 0.7621, Train: 0.9667, Val: 0.7540, Test: 0.7580\n",
      "Epoch 44, Loss: 0.7618, Train: 0.9667, Val: 0.7540, Test: 0.7590\n",
      "Epoch 45, Loss: 0.7615, Train: 0.9667, Val: 0.7560, Test: 0.7570\n",
      "Epoch 46, Loss: 0.7612, Train: 0.9667, Val: 0.7560, Test: 0.7560\n",
      "Epoch 47, Loss: 0.7610, Train: 0.9667, Val: 0.7560, Test: 0.7560\n",
      "Epoch 48, Loss: 0.7608, Train: 0.9667, Val: 0.7560, Test: 0.7570\n",
      "Epoch 49, Loss: 0.7607, Train: 0.9667, Val: 0.7560, Test: 0.7580\n",
      "Epoch 50, Loss: 0.7606, Train: 0.9667, Val: 0.7560, Test: 0.7590\n",
      "Time: 1.93s\n"
     ]
    },
    {
     "data": {
      "text/plain": [
       "0.759"
      ]
     },
     "execution_count": 7,
     "metadata": {},
     "output_type": "execute_result"
    }
   ],
   "source": [
    "train(model, g, features, labels, train_mask, val_mask, test_mask)\n",
    "test(model, g, features, labels, test_mask)"
   ]
  }
 ],
 "metadata": {
  "kernelspec": {
   "display_name": "Python 3.9.6 ('venv': venv)",
   "language": "python",
   "name": "python3"
  },
  "language_info": {
   "codemirror_mode": {
    "name": "ipython",
    "version": 3
   },
   "file_extension": ".py",
   "mimetype": "text/x-python",
   "name": "python",
   "nbconvert_exporter": "python",
   "pygments_lexer": "ipython3",
   "version": "3.9.12"
  },
  "orig_nbformat": 4,
  "vscode": {
   "interpreter": {
    "hash": "53236ea3850ed19be974e6741f9c7a7506ed085a4abb6419de9917a82e4ffe4f"
   }
  }
 },
 "nbformat": 4,
 "nbformat_minor": 2
}
