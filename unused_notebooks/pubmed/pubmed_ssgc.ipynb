{
 "cells": [
  {
   "cell_type": "code",
   "execution_count": 1,
   "metadata": {},
   "outputs": [
    {
     "name": "stderr",
     "output_type": "stream",
     "text": [
      "d:\\Files\\Coding\\ml\\EfficientGNN\\venv\\lib\\site-packages\\tqdm\\auto.py:22: TqdmWarning: IProgress not found. Please update jupyter and ipywidgets. See https://ipywidgets.readthedocs.io/en/stable/user_install.html\n",
      "  from .autonotebook import tqdm as notebook_tqdm\n"
     ]
    }
   ],
   "source": [
    "from models.SSGC import SSGC\n",
    "from dgl.data import CoraGraphDataset, CiteseerGraphDataset, PubmedGraphDataset\n",
    "import torch.nn as nn\n",
    "import torch\n",
    "import torch.nn.functional as F\n",
    "import dgl\n",
    "from time import perf_counter"
   ]
  },
  {
   "cell_type": "code",
   "execution_count": 2,
   "metadata": {},
   "outputs": [],
   "source": [
    "device = 'cpu'\n",
    "activation = nn.ReLU()\n",
    "epochs = 50\n",
    "batch_size = 10000\n",
    "lr = 0.02\n",
    "loss_fn = nn.CrossEntropyLoss()\n",
    "weight_decay = 5e-4"
   ]
  },
  {
   "cell_type": "code",
   "execution_count": 3,
   "metadata": {},
   "outputs": [
    {
     "name": "stdout",
     "output_type": "stream",
     "text": [
      "  NumNodes: 19717\n",
      "  NumEdges: 88651\n",
      "  NumFeats: 500\n",
      "  NumClasses: 3\n",
      "  NumTrainingSamples: 60\n",
      "  NumValidationSamples: 500\n",
      "  NumTestSamples: 1000\n",
      "Done loading data from cached files.\n"
     ]
    },
    {
     "name": "stderr",
     "output_type": "stream",
     "text": [
      "d:\\Files\\Coding\\ml\\EfficientGNN\\venv\\lib\\site-packages\\dgl\\data\\utils.py:288: UserWarning: Property dataset.num_labels will be deprecated, please use dataset.num_classes instead.\n",
      "  warnings.warn('Property {} will be deprecated, please use {} instead.'.format(old, new))\n"
     ]
    }
   ],
   "source": [
    "data = PubmedGraphDataset()\n",
    "g = data[0]\n",
    "g = g.to(device)\n",
    "features = g.ndata['feat']\n",
    "labels = g.ndata['label']\n",
    "train_mask = g.ndata['train_mask']\n",
    "val_mask = g.ndata['val_mask']\n",
    "test_mask = g.ndata['test_mask']\n",
    "in_feats = features.shape[-1]\n",
    "n_classes = data.num_labels\n",
    "n_edges = g.number_of_edges()\n",
    "g = dgl.remove_self_loop(g)\n",
    "g = dgl.add_self_loop(g)"
   ]
  },
  {
   "cell_type": "code",
   "execution_count": 4,
   "metadata": {},
   "outputs": [],
   "source": [
    "model = SSGC(in_feats, n_classes, K=2, alpha=0.1)\n",
    "optimizer = torch.optim.Adam(model.parameters(), lr=lr, weight_decay=weight_decay)"
   ]
  },
  {
   "cell_type": "code",
   "execution_count": 5,
   "metadata": {},
   "outputs": [],
   "source": [
    "def test(model, g, features, labels, mask):\n",
    "    model.eval()\n",
    "    with torch.no_grad():\n",
    "        logits = model(g, features)[mask]  # only compute the evaluation set\n",
    "        labels = labels[mask]\n",
    "        _, indices = torch.max(logits, dim=1)\n",
    "        correct = torch.sum(indices == labels)\n",
    "        return correct.item() * 1.0 / len(labels)"
   ]
  },
  {
   "cell_type": "code",
   "execution_count": 6,
   "metadata": {},
   "outputs": [],
   "source": [
    "def train(model, g, features, labels, train_mask, val_mask, test_mask):\n",
    "    t = perf_counter()\n",
    "    for epoch in range(epochs):\n",
    "        model.train()\n",
    "        logits = model(g, features)\n",
    "        loss = loss_fn(logits[train_mask], labels[train_mask])\n",
    "        optimizer.zero_grad()\n",
    "        loss.backward()\n",
    "        optimizer.step()\n",
    "\n",
    "        model.eval()\n",
    "        logits = model(g, features)\n",
    "        train_acc = torch.sum(logits[train_mask].argmax(1) == labels[train_mask]).item() / train_mask.sum().item()\n",
    "        val_acc = torch.sum(logits[val_mask].argmax(1) == labels[val_mask]).item() / val_mask.sum().item()\n",
    "        test_acc = torch.sum(logits[test_mask].argmax(1) == labels[test_mask]).item() / test_mask.sum().item()\n",
    "        print(f'Epoch {epoch + 1:02d}, Loss: {loss:.4f}, Train: {train_acc:.4f}, Val: {val_acc:.4f}, Test: {test_acc:.4f}')\n",
    "    print(f'Time: {perf_counter()-t:.2f}s')"
   ]
  },
  {
   "cell_type": "code",
   "execution_count": 7,
   "metadata": {},
   "outputs": [
    {
     "name": "stdout",
     "output_type": "stream",
     "text": [
      "Epoch 01, Loss: 1.1188, Train: 0.5333, Val: 0.4960, Test: 0.5380\n",
      "Epoch 02, Loss: 1.0162, Train: 0.7000, Val: 0.5900, Test: 0.6140\n",
      "Epoch 03, Loss: 0.8813, Train: 0.8167, Val: 0.6660, Test: 0.6690\n",
      "Epoch 04, Loss: 0.7598, Train: 0.8000, Val: 0.6760, Test: 0.6910\n",
      "Epoch 05, Loss: 0.7084, Train: 0.8500, Val: 0.6960, Test: 0.6960\n",
      "Epoch 06, Loss: 0.6398, Train: 0.8833, Val: 0.7000, Test: 0.6920\n",
      "Epoch 07, Loss: 0.5797, Train: 0.8833, Val: 0.6900, Test: 0.6830\n",
      "Epoch 08, Loss: 0.5491, Train: 0.8667, Val: 0.6920, Test: 0.6780\n",
      "Epoch 09, Loss: 0.5244, Train: 0.8833, Val: 0.6900, Test: 0.6870\n",
      "Epoch 10, Loss: 0.4904, Train: 0.8833, Val: 0.7080, Test: 0.6920\n",
      "Epoch 11, Loss: 0.4580, Train: 0.9167, Val: 0.7100, Test: 0.6960\n",
      "Epoch 12, Loss: 0.4335, Train: 0.9167, Val: 0.7140, Test: 0.7080\n",
      "Epoch 13, Loss: 0.4142, Train: 0.9167, Val: 0.7260, Test: 0.7200\n",
      "Epoch 14, Loss: 0.3975, Train: 0.9167, Val: 0.7260, Test: 0.7240\n",
      "Epoch 15, Loss: 0.3824, Train: 0.9167, Val: 0.7320, Test: 0.7270\n",
      "Epoch 16, Loss: 0.3681, Train: 0.9333, Val: 0.7380, Test: 0.7310\n",
      "Epoch 17, Loss: 0.3543, Train: 0.9333, Val: 0.7400, Test: 0.7360\n",
      "Epoch 18, Loss: 0.3411, Train: 0.9333, Val: 0.7380, Test: 0.7390\n",
      "Epoch 19, Loss: 0.3287, Train: 0.9333, Val: 0.7420, Test: 0.7390\n",
      "Epoch 20, Loss: 0.3170, Train: 0.9333, Val: 0.7420, Test: 0.7350\n",
      "Epoch 21, Loss: 0.3061, Train: 0.9333, Val: 0.7400, Test: 0.7320\n",
      "Epoch 22, Loss: 0.2960, Train: 0.9333, Val: 0.7480, Test: 0.7370\n",
      "Epoch 23, Loss: 0.2866, Train: 0.9333, Val: 0.7400, Test: 0.7390\n",
      "Epoch 24, Loss: 0.2777, Train: 0.9333, Val: 0.7400, Test: 0.7380\n",
      "Epoch 25, Loss: 0.2693, Train: 0.9333, Val: 0.7440, Test: 0.7400\n",
      "Epoch 26, Loss: 0.2614, Train: 0.9667, Val: 0.7500, Test: 0.7390\n",
      "Epoch 27, Loss: 0.2538, Train: 0.9667, Val: 0.7520, Test: 0.7410\n",
      "Epoch 28, Loss: 0.2466, Train: 0.9833, Val: 0.7540, Test: 0.7450\n",
      "Epoch 29, Loss: 0.2396, Train: 0.9833, Val: 0.7540, Test: 0.7470\n",
      "Epoch 30, Loss: 0.2329, Train: 0.9833, Val: 0.7580, Test: 0.7490\n",
      "Epoch 31, Loss: 0.2265, Train: 1.0000, Val: 0.7600, Test: 0.7520\n",
      "Epoch 32, Loss: 0.2203, Train: 1.0000, Val: 0.7620, Test: 0.7520\n",
      "Epoch 33, Loss: 0.2143, Train: 1.0000, Val: 0.7640, Test: 0.7530\n",
      "Epoch 34, Loss: 0.2087, Train: 1.0000, Val: 0.7680, Test: 0.7560\n",
      "Epoch 35, Loss: 0.2033, Train: 1.0000, Val: 0.7720, Test: 0.7610\n",
      "Epoch 36, Loss: 0.1982, Train: 1.0000, Val: 0.7720, Test: 0.7600\n",
      "Epoch 37, Loss: 0.1933, Train: 1.0000, Val: 0.7760, Test: 0.7600\n",
      "Epoch 38, Loss: 0.1887, Train: 1.0000, Val: 0.7760, Test: 0.7580\n",
      "Epoch 39, Loss: 0.1843, Train: 1.0000, Val: 0.7820, Test: 0.7580\n",
      "Epoch 40, Loss: 0.1800, Train: 1.0000, Val: 0.7860, Test: 0.7600\n",
      "Epoch 41, Loss: 0.1760, Train: 1.0000, Val: 0.7860, Test: 0.7610\n",
      "Epoch 42, Loss: 0.1722, Train: 1.0000, Val: 0.7900, Test: 0.7630\n",
      "Epoch 43, Loss: 0.1685, Train: 1.0000, Val: 0.7900, Test: 0.7620\n",
      "Epoch 44, Loss: 0.1649, Train: 1.0000, Val: 0.7880, Test: 0.7630\n",
      "Epoch 45, Loss: 0.1615, Train: 1.0000, Val: 0.7920, Test: 0.7630\n",
      "Epoch 46, Loss: 0.1582, Train: 1.0000, Val: 0.7900, Test: 0.7630\n",
      "Epoch 47, Loss: 0.1550, Train: 1.0000, Val: 0.7900, Test: 0.7630\n",
      "Epoch 48, Loss: 0.1520, Train: 1.0000, Val: 0.7900, Test: 0.7640\n",
      "Epoch 49, Loss: 0.1491, Train: 1.0000, Val: 0.7880, Test: 0.7660\n",
      "Epoch 50, Loss: 0.1463, Train: 1.0000, Val: 0.7900, Test: 0.7670\n",
      "Time: 58.13s\n"
     ]
    },
    {
     "data": {
      "text/plain": [
       "0.767"
      ]
     },
     "execution_count": 7,
     "metadata": {},
     "output_type": "execute_result"
    }
   ],
   "source": [
    "train(model, g, features, labels, train_mask, val_mask, test_mask)\n",
    "test(model, g, features, labels, test_mask)"
   ]
  }
 ],
 "metadata": {
  "kernelspec": {
   "display_name": "Python 3.9.6 ('venv': venv)",
   "language": "python",
   "name": "python3"
  },
  "language_info": {
   "codemirror_mode": {
    "name": "ipython",
    "version": 3
   },
   "file_extension": ".py",
   "mimetype": "text/x-python",
   "name": "python",
   "nbconvert_exporter": "python",
   "pygments_lexer": "ipython3",
   "version": "3.9.12"
  },
  "orig_nbformat": 4,
  "vscode": {
   "interpreter": {
    "hash": "53236ea3850ed19be974e6741f9c7a7506ed085a4abb6419de9917a82e4ffe4f"
   }
  }
 },
 "nbformat": 4,
 "nbformat_minor": 2
}
