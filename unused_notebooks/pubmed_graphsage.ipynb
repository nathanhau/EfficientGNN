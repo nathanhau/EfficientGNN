{
 "cells": [
  {
   "cell_type": "code",
   "execution_count": 6,
   "metadata": {},
   "outputs": [],
   "source": [
    "from models.GCN import GCN\n",
    "from dgl.data import CoraGraphDataset, CiteseerGraphDataset, PubmedGraphDataset\n",
    "import torch.nn as nn\n",
    "import torch\n",
    "import torch.nn.functional as F\n",
    "import dgl\n",
    "from trainer import train, test\n",
    "from time import perf_counter"
   ]
  },
  {
   "cell_type": "code",
   "execution_count": 7,
   "metadata": {},
   "outputs": [],
   "source": [
    "device = 'cpu'\n",
    "activation = nn.ReLU()\n",
    "epochs = 100\n",
    "batch_size = 10000\n",
    "lr = 0.02\n",
    "loss_fn = nn.CrossEntropyLoss()\n",
    "weight_decay = 5e-4"
   ]
  },
  {
   "cell_type": "code",
   "execution_count": 8,
   "metadata": {},
   "outputs": [
    {
     "name": "stdout",
     "output_type": "stream",
     "text": [
      "  NumNodes: 19717\n",
      "  NumEdges: 88651\n",
      "  NumFeats: 500\n",
      "  NumClasses: 3\n",
      "  NumTrainingSamples: 60\n",
      "  NumValidationSamples: 500\n",
      "  NumTestSamples: 1000\n",
      "Done loading data from cached files.\n"
     ]
    },
    {
     "name": "stderr",
     "output_type": "stream",
     "text": [
      "/Users/ferdy/Documents/hkust/fall2022/comp4222/EfficientGNN/efficient/lib/python3.9/site-packages/dgl/data/utils.py:288: UserWarning: Property dataset.num_labels will be deprecated, please use dataset.num_classes instead.\n",
      "  warnings.warn('Property {} will be deprecated, please use {} instead.'.format(old, new))\n"
     ]
    }
   ],
   "source": [
    "data = PubmedGraphDataset()\n",
    "g = data[0]\n",
    "g = g.to(device)\n",
    "features = g.ndata['feat']\n",
    "labels = g.ndata['label']\n",
    "train_mask = g.ndata['train_mask']\n",
    "val_mask = g.ndata['val_mask']\n",
    "test_mask = g.ndata['test_mask']\n",
    "in_feats = features.shape[-1]\n",
    "n_classes = data.num_labels\n",
    "n_edges = g.number_of_edges()\n",
    "g = dgl.remove_self_loop(g)\n",
    "g = dgl.add_self_loop(g)"
   ]
  },
  {
   "cell_type": "code",
   "execution_count": 9,
   "metadata": {},
   "outputs": [],
   "source": [
    "class GraphSAGE(nn.Module):\n",
    "    def __init__(self, in_feats, n_hidden, n_classes, activation):\n",
    "        super(GraphSAGE, self).__init__()\n",
    "        self.conv1 = dgl.nn.SAGEConv(in_feats, n_hidden, 'mean')\n",
    "        self.conv2 = dgl.nn.SAGEConv(n_hidden, n_classes, 'mean')\n",
    "        self.activation = activation\n",
    "\n",
    "    def forward(self, graph, features):\n",
    "        h = self.conv1(graph, features)\n",
    "        h = self.activation(h)\n",
    "        h = self.conv2(graph, h)\n",
    "        return h"
   ]
  },
  {
   "cell_type": "code",
   "execution_count": 10,
   "metadata": {},
   "outputs": [],
   "source": [
    "model = GraphSAGE(in_feats, 16, n_classes, activation)\n",
    "optimizer = torch.optim.Adam(model.parameters(), lr=lr)"
   ]
  },
  {
   "cell_type": "code",
   "execution_count": 11,
   "metadata": {},
   "outputs": [
    {
     "name": "stdout",
     "output_type": "stream",
     "text": [
      "Epoch 00000 | Loss 1.1031 | Train: 0.8167, Val: 0.4980, Test: 0.5040\n",
      "Epoch 00010 | Loss 0.2995 | Train: 0.9833, Val: 0.7460, Test: 0.7530\n",
      "Epoch 00020 | Loss 0.0282 | Train: 1.0000, Val: 0.7420, Test: 0.7580\n",
      "Epoch 00030 | Loss 0.0043 | Train: 1.0000, Val: 0.7480, Test: 0.7540\n",
      "Epoch 00040 | Loss 0.0015 | Train: 1.0000, Val: 0.7480, Test: 0.7540\n",
      "Epoch 00050 | Loss 0.0009 | Train: 1.0000, Val: 0.7480, Test: 0.7530\n",
      "Epoch 00060 | Loss 0.0007 | Train: 1.0000, Val: 0.7420, Test: 0.7530\n",
      "Epoch 00070 | Loss 0.0006 | Train: 1.0000, Val: 0.7440, Test: 0.7520\n",
      "Epoch 00080 | Loss 0.0005 | Train: 1.0000, Val: 0.7440, Test: 0.7520\n",
      "Epoch 00090 | Loss 0.0005 | Train: 1.0000, Val: 0.7420, Test: 0.7510\n",
      "Training time: 3.0501s\n"
     ]
    }
   ],
   "source": [
    "train(model, g, features, labels, train_mask, val_mask, test_mask, epochs=epochs, loss_fn=loss_fn, optimizer=optimizer, lr=lr, weight_decay=weight_decay, device=device)"
   ]
  },
  {
   "cell_type": "code",
   "execution_count": 12,
   "metadata": {},
   "outputs": [
    {
     "name": "stdout",
     "output_type": "stream",
     "text": [
      "Train accuracy: 1.0000\n",
      "Validation accuracy: 0.7440\n",
      "Test accuracy: 0.7500\n"
     ]
    }
   ],
   "source": [
    "train_acc, val_acc, test_acc = test(model, g, features, labels, train_mask, val_mask, test_mask, loss_fn=loss_fn, device=device)\n",
    "print(\"Train accuracy: {:.4f}\".format(train_acc))\n",
    "print(\"Validation accuracy: {:.4f}\".format(val_acc))\n",
    "print(\"Test accuracy: {:.4f}\".format(test_acc))"
   ]
  },
  {
   "cell_type": "code",
   "execution_count": null,
   "metadata": {},
   "outputs": [],
   "source": []
  }
 ],
 "metadata": {
  "kernelspec": {
   "display_name": "Python 3.9.13 ('efficient': venv)",
   "language": "python",
   "name": "python3"
  },
  "language_info": {
   "codemirror_mode": {
    "name": "ipython",
    "version": 3
   },
   "file_extension": ".py",
   "mimetype": "text/x-python",
   "name": "python",
   "nbconvert_exporter": "python",
   "pygments_lexer": "ipython3",
   "version": "3.9.13"
  },
  "orig_nbformat": 4,
  "vscode": {
   "interpreter": {
    "hash": "75505e98a7093c27e009b0c71b365a0bba92c1ffabf329fc13110c86b479a26e"
   }
  }
 },
 "nbformat": 4,
 "nbformat_minor": 2
}
